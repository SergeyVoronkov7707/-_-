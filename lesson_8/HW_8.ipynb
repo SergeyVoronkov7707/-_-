{
 "cells": [
  {
   "cell_type": "markdown",
   "id": "ea94eda4",
   "metadata": {},
   "source": [
    "Задание  \n",
    "Данные берем отызывы за лето  \n",
    "На вебинаре мы говорили, что долгое время CNN и RNN архитектуры были конурируещими выяснить какая архитектура больше подходит для нашей задачи  \n",
    "1. построить свёрточные архитектуры  \n",
    "2. построить различные архитектуры с RNN  \n",
    "3. построить совместные архитектуры CNN -> RNN или (RNN -> CNN)  "
   ]
  },
  {
   "cell_type": "code",
   "execution_count": 1,
   "id": "2319ab27",
   "metadata": {},
   "outputs": [],
   "source": [
    "# попробуем запрограммировать простую рекурентную сеть. Возьмем датасет с прошлого занятия\n",
    "\n",
    "import pandas as pd\n",
    "from string import punctuation\n",
    "from stop_words import get_stop_words\n",
    "from pymorphy2 import MorphAnalyzer\n",
    "import re\n",
    "\n",
    "df_train = pd.read_csv(\"data/train.csv\")\n",
    "df_test = pd.read_csv(\"data/test.csv\")\n",
    "df_val = pd.read_csv(\"data/val.csv\")\n",
    "\n"
   ]
  },
  {
   "cell_type": "code",
   "execution_count": 4,
   "id": "5ff316c2",
   "metadata": {},
   "outputs": [],
   "source": [
    "res = pd.read_pickle('result.pkl')"
   ]
  },
  {
   "cell_type": "code",
   "execution_count": 5,
   "id": "88c61931",
   "metadata": {},
   "outputs": [
    {
     "data": {
      "text/html": [
       "<div>\n",
       "<style scoped>\n",
       "    .dataframe tbody tr th:only-of-type {\n",
       "        vertical-align: middle;\n",
       "    }\n",
       "\n",
       "    .dataframe tbody tr th {\n",
       "        vertical-align: top;\n",
       "    }\n",
       "\n",
       "    .dataframe thead th {\n",
       "        text-align: right;\n",
       "    }\n",
       "</style>\n",
       "<table border=\"1\" class=\"dataframe\">\n",
       "  <thead>\n",
       "    <tr style=\"text-align: right;\">\n",
       "      <th></th>\n",
       "      <th>id</th>\n",
       "      <th>text</th>\n",
       "      <th>class</th>\n",
       "    </tr>\n",
       "  </thead>\n",
       "  <tbody>\n",
       "    <tr>\n",
       "      <th>0</th>\n",
       "      <td>0</td>\n",
       "      <td>@alisachachka не уезжаааааааай. :(❤ я тоже не ...</td>\n",
       "      <td>0</td>\n",
       "    </tr>\n",
       "    <tr>\n",
       "      <th>1</th>\n",
       "      <td>1</td>\n",
       "      <td>RT @GalyginVadim: Ребята и девчата!\\nВсе в кин...</td>\n",
       "      <td>1</td>\n",
       "    </tr>\n",
       "    <tr>\n",
       "      <th>2</th>\n",
       "      <td>2</td>\n",
       "      <td>RT @ARTEM_KLYUSHIN: Кто ненавидит пробки ретви...</td>\n",
       "      <td>0</td>\n",
       "    </tr>\n",
       "    <tr>\n",
       "      <th>3</th>\n",
       "      <td>3</td>\n",
       "      <td>RT @epupybobv: Хочется котлету по-киевски. Зап...</td>\n",
       "      <td>1</td>\n",
       "    </tr>\n",
       "    <tr>\n",
       "      <th>4</th>\n",
       "      <td>4</td>\n",
       "      <td>@KarineKurganova @Yess__Boss босапопа есбоса н...</td>\n",
       "      <td>1</td>\n",
       "    </tr>\n",
       "  </tbody>\n",
       "</table>\n",
       "</div>"
      ],
      "text/plain": [
       "   id                                               text  class\n",
       "0   0  @alisachachka не уезжаааааааай. :(❤ я тоже не ...      0\n",
       "1   1  RT @GalyginVadim: Ребята и девчата!\\nВсе в кин...      1\n",
       "2   2  RT @ARTEM_KLYUSHIN: Кто ненавидит пробки ретви...      0\n",
       "3   3  RT @epupybobv: Хочется котлету по-киевски. Зап...      1\n",
       "4   4  @KarineKurganova @Yess__Boss босапопа есбоса н...      1"
      ]
     },
     "execution_count": 5,
     "metadata": {},
     "output_type": "execute_result"
    }
   ],
   "source": [
    "df_train.head()"
   ]
  },
  {
   "cell_type": "code",
   "execution_count": 6,
   "id": "c2c962a8",
   "metadata": {},
   "outputs": [
    {
     "data": {
      "text/html": [
       "<div>\n",
       "<style scoped>\n",
       "    .dataframe tbody tr th:only-of-type {\n",
       "        vertical-align: middle;\n",
       "    }\n",
       "\n",
       "    .dataframe tbody tr th {\n",
       "        vertical-align: top;\n",
       "    }\n",
       "\n",
       "    .dataframe thead th {\n",
       "        text-align: right;\n",
       "    }\n",
       "</style>\n",
       "<table border=\"1\" class=\"dataframe\">\n",
       "  <thead>\n",
       "    <tr style=\"text-align: right;\">\n",
       "      <th></th>\n",
       "      <th>model</th>\n",
       "      <th>Test_score</th>\n",
       "      <th>Test_accuracy</th>\n",
       "    </tr>\n",
       "  </thead>\n",
       "  <tbody>\n",
       "    <tr>\n",
       "      <th>0</th>\n",
       "      <td>SimpleRNN</td>\n",
       "      <td>0.693551</td>\n",
       "      <td>0.501609</td>\n",
       "    </tr>\n",
       "    <tr>\n",
       "      <th>1</th>\n",
       "      <td>Свертки</td>\n",
       "      <td>1.510216</td>\n",
       "      <td>0.707667</td>\n",
       "    </tr>\n",
       "    <tr>\n",
       "      <th>2</th>\n",
       "      <td>LSTM</td>\n",
       "      <td>1.794874</td>\n",
       "      <td>0.703743</td>\n",
       "    </tr>\n",
       "    <tr>\n",
       "      <th>3</th>\n",
       "      <td>GRU</td>\n",
       "      <td>0.625548</td>\n",
       "      <td>0.727770</td>\n",
       "    </tr>\n",
       "    <tr>\n",
       "      <th>4</th>\n",
       "      <td>model_bi</td>\n",
       "      <td>0.613900</td>\n",
       "      <td>0.739276</td>\n",
       "    </tr>\n",
       "  </tbody>\n",
       "</table>\n",
       "</div>"
      ],
      "text/plain": [
       "       model  Test_score  Test_accuracy\n",
       "0  SimpleRNN    0.693551       0.501609\n",
       "1    Свертки    1.510216       0.707667\n",
       "2       LSTM    1.794874       0.703743\n",
       "3        GRU    0.625548       0.727770\n",
       "4   model_bi    0.613900       0.739276"
      ]
     },
     "execution_count": 6,
     "metadata": {},
     "output_type": "execute_result"
    }
   ],
   "source": [
    "res"
   ]
  },
  {
   "cell_type": "markdown",
   "id": "0d0ad555",
   "metadata": {},
   "source": [
    "обработка текста"
   ]
  },
  {
   "cell_type": "code",
   "execution_count": 3,
   "id": "480ae033",
   "metadata": {},
   "outputs": [],
   "source": [
    "# sw = set(get_stop_words(\"ru\"))\n",
    "# exclude = set(punctuation)\n",
    "# morpher = MorphAnalyzer()\n",
    "\n",
    "# def preprocess_text(txt):\n",
    "#     txt = str(txt)\n",
    "#     txt = \"\".join(c for c in txt if c not in exclude)\n",
    "#     txt = txt.lower()\n",
    "#     txt = re.sub(\"\\sне\", \"не\", txt)\n",
    "#     txt = [morpher.parse(word)[0].normal_form for word in txt.split() if word not in sw]\n",
    "#     return \" \".join(txt)\n",
    "\n",
    "# df_train['text'] = df_train['text'].apply(preprocess_text)\n",
    "# df_val['text'] = df_val['text'].apply(preprocess_text)\n",
    "# df_test['text'] = df_test['text'].apply(preprocess_text)"
   ]
  },
  {
   "cell_type": "code",
   "execution_count": 8,
   "id": "fd80f415",
   "metadata": {},
   "outputs": [],
   "source": [
    "import re\n",
    "def funk_del(input_txt):\n",
    "    pattern = \"@[\\w]*\"\n",
    "    if re.findall(pattern, input_txt):\n",
    "        return re.sub(pattern, ' ', input_txt)\n",
    "    else:\n",
    "        return re.sub(pattern, ' ', input_txt)\n"
   ]
  },
  {
   "cell_type": "code",
   "execution_count": 13,
   "id": "e3b14fa3",
   "metadata": {},
   "outputs": [],
   "source": [
    "sw = set(get_stop_words(\"ru\"))\n",
    "exclude = set(punctuation)\n",
    "morpher = MorphAnalyzer()\n",
    "\n",
    "def preprocess_text(txt):\n",
    "    txt = str(txt)\n",
    "    txt =  re.sub(r'[^а-яА-Я]', ' ', txt) # Заменим спец. символы на пробелы\n",
    "    txt = funk_del(txt) # Удалим @word из всех твитов\n",
    "#     txt = \"\".join(c for c in txt if c not in exclude)\n",
    "    txt = txt.lower()\n",
    "    txt = re.sub(\"\\sне\", \"не\", txt)\n",
    "    txt = [morpher.parse(word)[0].normal_form for word in txt.split() if word not in sw]\n",
    "    return \" \".join(txt)\n",
    "\n",
    "df_train['text'] = df_train['text'].apply(preprocess_text)\n",
    "df_val['text'] = df_val['text'].apply(preprocess_text)\n",
    "df_test['text'] = df_test['text'].apply(preprocess_text)"
   ]
  },
  {
   "cell_type": "code",
   "execution_count": 14,
   "id": "c8781a37",
   "metadata": {},
   "outputs": [],
   "source": [
    "import numpy as np\n",
    "import keras\n",
    "from keras.models import Sequential, Model\n",
    "from keras.layers import Dense, Dropout, Activation, Input, Embedding, Conv1D, GlobalMaxPool1D, SimpleRNN, LSTM, GRU, Masking, MaxPool1D\n",
    "from keras.preprocessing.text import Tokenizer\n",
    "# from keras.preprocessing.sequence import pad_sequences\n",
    "from tensorflow.keras.preprocessing.sequence import pad_sequences\n",
    "from keras.callbacks import TensorBoard \n",
    "# from keras.objectives import categorical_crossentropy\n",
    "from keras.callbacks import EarlyStopping  "
   ]
  },
  {
   "cell_type": "code",
   "execution_count": 67,
   "id": "d9cbcb32",
   "metadata": {},
   "outputs": [
    {
     "data": {
      "text/plain": [
       "<BarContainer object of 220 artists>"
      ]
     },
     "execution_count": 67,
     "metadata": {},
     "output_type": "execute_result"
    },
    {
     "data": {
      "image/png": "[encoded data removed]",
      "text/plain": [
       "<Figure size 432x288 with 1 Axes>"
      ]
     },
     "metadata": {
      "needs_background": "light"
     },
     "output_type": "display_data"
    }
   ],
   "source": [
    "%matplotlib inline\n",
    "import matplotlib.pyplot as plt\n",
    "\n",
    "_, _, hist = plt.hist(df_train.text.apply(lambda text: len(text.split())), bins='auto')\n",
    "hist"
   ]
  },
  {
   "cell_type": "code",
   "execution_count": 75,
   "id": "4412b937",
   "metadata": {},
   "outputs": [],
   "source": [
    "word_count = 12000"
   ]
  },
  {
   "cell_type": "code",
   "execution_count": 83,
   "id": "c61381af",
   "metadata": {},
   "outputs": [],
   "source": [
    "text_corpus_train = df_train['text'].values\n",
    "text_corpus_valid = df_val['text'].values\n",
    "text_corpus_test = df_test['text'].values"
   ]
  },
  {
   "cell_type": "markdown",
   "id": "ce89ae2c",
   "metadata": {},
   "source": [
    "токенизация, выделение в переменную максимальное кол-во токенов, максимальная длина твита"
   ]
  },
  {
   "cell_type": "code",
   "execution_count": 91,
   "id": "d7eaed1c",
   "metadata": {},
   "outputs": [],
   "source": [
    "tokenizer = Tokenizer(num_words=8000+1, \n",
    "                     filters='#$%&()*+-<=>@[\\\\]^_`{|}~\\t\\n',\n",
    "                     lower = False, split = ' ')\n",
    "tokenizer.fit_on_texts(text_corpus_train)\n",
    "\n",
    "sequences_train = tokenizer.texts_to_sequences(text_corpus_train)\n",
    "sequences_val = tokenizer.texts_to_sequences(text_corpus_valid)\n",
    "sequences_test = tokenizer.texts_to_sequences(text_corpus_test)\n",
    "\n",
    "word_count = len(tokenizer.index_word) + 1\n",
    "training_length = max([len(i.split()) for i in text_corpus_train])\n",
    "\n",
    "X_train = pad_sequences(sequences_train, maxlen=training_length)\n",
    "X_valid = pad_sequences(sequences_val, maxlen=training_length)\n",
    "\n"
   ]
  },
  {
   "cell_type": "code",
   "execution_count": 92,
   "id": "2fd377c7",
   "metadata": {},
   "outputs": [
    {
     "data": {
      "text/plain": [
       "<keras.preprocessing.text.Tokenizer at 0x19695e49508>"
      ]
     },
     "execution_count": 92,
     "metadata": {},
     "output_type": "execute_result"
    }
   ],
   "source": [
    "tokenizer"
   ]
  },
  {
   "cell_type": "code",
   "execution_count": 93,
   "id": "0c69c5dc",
   "metadata": {},
   "outputs": [
    {
     "data": {
      "text/plain": [
       "(96560, 31)"
      ]
     },
     "execution_count": 93,
     "metadata": {},
     "output_type": "execute_result"
    }
   ],
   "source": [
    "word_count, training_length"
   ]
  },
  {
   "cell_type": "code",
   "execution_count": 94,
   "id": "3ae9599a",
   "metadata": {},
   "outputs": [],
   "source": [
    "num_classes = 2\n",
    "y_train = keras.utils.to_categorical(df_train[\"class\"], num_classes)\n",
    "y_val = keras.utils.to_categorical(df_val[\"class\"], num_classes)"
   ]
  },
  {
   "cell_type": "code",
   "execution_count": null,
   "id": "8c7bc343",
   "metadata": {},
   "outputs": [],
   "source": []
  },
  {
   "cell_type": "code",
   "execution_count": 109,
   "id": "668368a0",
   "metadata": {},
   "outputs": [],
   "source": [
    "import time\n",
    "def exec_time(start, end):\n",
    "    diff_time = end - start\n",
    "    m, s = divmod(diff_time, 60)\n",
    "    h, m = divmod(m, 60)\n",
    "    s,m,h = int(round(s, 0)), int(round(m, 0)), int(round(h, 0))\n",
    "    return \"{0:02d}:{1:02d}:{2:02d}\".format(h, m, s)\n",
    "#    print(\"Execution Time: \" + \"{0:02d}:{1:02d}:{2:02d}\".format(h, m, s))"
   ]
  },
  {
   "cell_type": "markdown",
   "id": "7310e563",
   "metadata": {},
   "source": [
    "# Свертки"
   ]
  },
  {
   "cell_type": "code",
   "execution_count": 95,
   "id": "8f354841",
   "metadata": {},
   "outputs": [],
   "source": [
    "num_classes = 2\n",
    "\n",
    "# Training\n",
    "epochs = 10\n",
    "batch_size = 512\n",
    "print_batch_n = 100"
   ]
  },
  {
   "cell_type": "code",
   "execution_count": 96,
   "id": "410ba791",
   "metadata": {},
   "outputs": [
    {
     "name": "stdout",
     "output_type": "stream",
     "text": [
      "Model: \"sequential_7\"\n",
      "_________________________________________________________________\n",
      " Layer (type)                Output Shape              Param #   \n",
      "=================================================================\n",
      " embedding_7 (Embedding)     (None, 31, 30)            2896800   \n",
      "                                                                 \n",
      " conv1d_4 (Conv1D)           (None, 29, 128)           11648     \n",
      "                                                                 \n",
      " activation_10 (Activation)  (None, 29, 128)           0         \n",
      "                                                                 \n",
      " global_max_pooling1d_3 (Glo  (None, 128)              0         \n",
      " balMaxPooling1D)                                                \n",
      "                                                                 \n",
      " dense_14 (Dense)            (None, 10)                1290      \n",
      "                                                                 \n",
      " activation_11 (Activation)  (None, 10)                0         \n",
      "                                                                 \n",
      " dense_15 (Dense)            (None, 2)                 22        \n",
      "                                                                 \n",
      " activation_12 (Activation)  (None, 2)                 0         \n",
      "                                                                 \n",
      "=================================================================\n",
      "Total params: 2,909,760\n",
      "Trainable params: 2,909,760\n",
      "Non-trainable params: 0\n",
      "_________________________________________________________________\n"
     ]
    }
   ],
   "source": [
    "model = Sequential()\n",
    "model.add(Embedding(input_dim=word_count, output_dim=30, input_length=training_length))\n",
    "model.add(Conv1D(128, 3))\n",
    "model.add(Activation(\"relu\"))\n",
    "model.add(GlobalMaxPool1D())\n",
    "model.add(Dense(10))\n",
    "model.add(Activation(\"relu\"))\n",
    "model.add(Dense(num_classes))\n",
    "model.add(Activation('softmax'))\n",
    "\n",
    "model.summary()"
   ]
  },
  {
   "cell_type": "raw",
   "id": "09d515f0",
   "metadata": {},
   "source": [
    "##### res = pd.DataFrame(columns = ['model', 'Test_score', 'Test_accuracy'])"
   ]
  },
  {
   "cell_type": "code",
   "execution_count": 97,
   "id": "d1b86446",
   "metadata": {},
   "outputs": [],
   "source": [
    "# res"
   ]
  },
  {
   "cell_type": "code",
   "execution_count": 98,
   "id": "756a5d9d",
   "metadata": {},
   "outputs": [],
   "source": [
    "model.compile(loss='categorical_crossentropy',\n",
    "              optimizer='adam',\n",
    "              metrics=['accuracy'])"
   ]
  },
  {
   "cell_type": "code",
   "execution_count": null,
   "id": "4b7c39b9",
   "metadata": {},
   "outputs": [],
   "source": []
  },
  {
   "cell_type": "code",
   "execution_count": 110,
   "id": "aa440933",
   "metadata": {},
   "outputs": [
    {
     "name": "stdout",
     "output_type": "stream",
     "text": [
      "Epoch 1/10\n",
      "319/319 [==============================] - 15s 47ms/step - loss: 0.4889 - accuracy: 0.7605 - val_loss: 0.5560 - val_accuracy: 0.7142\n",
      "Epoch 2/10\n",
      "319/319 [==============================] - 14s 43ms/step - loss: 0.4396 - accuracy: 0.7926 - val_loss: 0.5789 - val_accuracy: 0.7094\n",
      "Wall time: 28.7 s\n"
     ]
    }
   ],
   "source": [
    "%%time\n",
    "start = time.time()\n",
    "tensorboard=TensorBoard(log_dir='./logs', write_graph=True, write_images=True)\n",
    "early_stopping=EarlyStopping(monitor='val_loss')  \n",
    "\n",
    "\n",
    "history = model.fit(X_train, y_train,\n",
    "                    batch_size=batch_size,\n",
    "                    epochs=epochs,\n",
    "                    verbose=1,\n",
    "                    validation_split=0.1,\n",
    "                    callbacks=[tensorboard, early_stopping])\n",
    "end = time.time()\n",
    "time_con = exec_time(start,end)"
   ]
  },
  {
   "cell_type": "code",
   "execution_count": 111,
   "id": "738f71ac",
   "metadata": {},
   "outputs": [
    {
     "data": {
      "text/plain": [
       "'00:00:29'"
      ]
     },
     "execution_count": 111,
     "metadata": {},
     "output_type": "execute_result"
    }
   ],
   "source": [
    "time_con"
   ]
  },
  {
   "cell_type": "code",
   "execution_count": 33,
   "id": "1c3ddc88",
   "metadata": {},
   "outputs": [
    {
     "data": {
      "text/html": [
       "<div>\n",
       "<style scoped>\n",
       "    .dataframe tbody tr th:only-of-type {\n",
       "        vertical-align: middle;\n",
       "    }\n",
       "\n",
       "    .dataframe tbody tr th {\n",
       "        vertical-align: top;\n",
       "    }\n",
       "\n",
       "    .dataframe thead th {\n",
       "        text-align: right;\n",
       "    }\n",
       "</style>\n",
       "<table border=\"1\" class=\"dataframe\">\n",
       "  <thead>\n",
       "    <tr style=\"text-align: right;\">\n",
       "      <th></th>\n",
       "      <th>model</th>\n",
       "      <th>Test_score</th>\n",
       "      <th>Test_accuracy</th>\n",
       "    </tr>\n",
       "  </thead>\n",
       "  <tbody>\n",
       "    <tr>\n",
       "      <th>0</th>\n",
       "      <td>SimpleRNN</td>\n",
       "      <td>0.693551</td>\n",
       "      <td>0.501609</td>\n",
       "    </tr>\n",
       "    <tr>\n",
       "      <th>1</th>\n",
       "      <td>Свертки</td>\n",
       "      <td>1.510216</td>\n",
       "      <td>0.707667</td>\n",
       "    </tr>\n",
       "    <tr>\n",
       "      <th>2</th>\n",
       "      <td>LSTM</td>\n",
       "      <td>1.794874</td>\n",
       "      <td>0.703743</td>\n",
       "    </tr>\n",
       "    <tr>\n",
       "      <th>3</th>\n",
       "      <td>GRU</td>\n",
       "      <td>0.625548</td>\n",
       "      <td>0.727770</td>\n",
       "    </tr>\n",
       "    <tr>\n",
       "      <th>4</th>\n",
       "      <td>model_bi</td>\n",
       "      <td>0.613900</td>\n",
       "      <td>0.739276</td>\n",
       "    </tr>\n",
       "  </tbody>\n",
       "</table>\n",
       "</div>"
      ],
      "text/plain": [
       "       model  Test_score  Test_accuracy\n",
       "0  SimpleRNN    0.693551       0.501609\n",
       "1    Свертки    1.510216       0.707667\n",
       "2       LSTM    1.794874       0.703743\n",
       "3        GRU    0.625548       0.727770\n",
       "4   model_bi    0.613900       0.739276"
      ]
     },
     "execution_count": 33,
     "metadata": {},
     "output_type": "execute_result"
    }
   ],
   "source": [
    "res"
   ]
  },
  {
   "cell_type": "code",
   "execution_count": 114,
   "id": "9cf98590",
   "metadata": {},
   "outputs": [
    {
     "name": "stdout",
     "output_type": "stream",
     "text": [
      "45/45 [==============================] - 1s 12ms/step - loss: 0.5851 - accuracy: 0.7089\n",
      "\n",
      "\n",
      "Test score: 0.5850539207458496\n",
      "Test accuracy: 0.7089450359344482\n"
     ]
    }
   ],
   "source": [
    "score = model.evaluate(X_valid, y_val, batch_size=512, verbose=1)\n",
    "print('\\n')\n",
    "print('Test score:', score[0])\n",
    "print('Test accuracy:', score[1])\n",
    "# res['model'] = 'Свертки'\n",
    "# res['Test_score'] = score[0]\n",
    "# res['Test_accuracy'] = score[1]\n",
    "result = {'model':'Свертки_N_8000', 'Test_score': score[0], 'Test_accuracy': score[1], 'time':time_con}\n",
    "res = res.append(result,ignore_index=True)\n"
   ]
  },
  {
   "cell_type": "code",
   "execution_count": 115,
   "id": "b4268497",
   "metadata": {},
   "outputs": [
    {
     "data": {
      "text/html": [
       "<div>\n",
       "<style scoped>\n",
       "    .dataframe tbody tr th:only-of-type {\n",
       "        vertical-align: middle;\n",
       "    }\n",
       "\n",
       "    .dataframe tbody tr th {\n",
       "        vertical-align: top;\n",
       "    }\n",
       "\n",
       "    .dataframe thead th {\n",
       "        text-align: right;\n",
       "    }\n",
       "</style>\n",
       "<table border=\"1\" class=\"dataframe\">\n",
       "  <thead>\n",
       "    <tr style=\"text-align: right;\">\n",
       "      <th></th>\n",
       "      <th>model</th>\n",
       "      <th>Test_score</th>\n",
       "      <th>Test_accuracy</th>\n",
       "      <th>time</th>\n",
       "    </tr>\n",
       "  </thead>\n",
       "  <tbody>\n",
       "    <tr>\n",
       "      <th>0</th>\n",
       "      <td>SimpleRNN</td>\n",
       "      <td>0.693551</td>\n",
       "      <td>0.501609</td>\n",
       "      <td>NaN</td>\n",
       "    </tr>\n",
       "    <tr>\n",
       "      <th>1</th>\n",
       "      <td>Свертки</td>\n",
       "      <td>1.510216</td>\n",
       "      <td>0.707667</td>\n",
       "      <td>NaN</td>\n",
       "    </tr>\n",
       "    <tr>\n",
       "      <th>2</th>\n",
       "      <td>LSTM</td>\n",
       "      <td>1.794874</td>\n",
       "      <td>0.703743</td>\n",
       "      <td>NaN</td>\n",
       "    </tr>\n",
       "    <tr>\n",
       "      <th>3</th>\n",
       "      <td>GRU</td>\n",
       "      <td>0.625548</td>\n",
       "      <td>0.727770</td>\n",
       "      <td>NaN</td>\n",
       "    </tr>\n",
       "    <tr>\n",
       "      <th>4</th>\n",
       "      <td>model_bi</td>\n",
       "      <td>0.613900</td>\n",
       "      <td>0.739276</td>\n",
       "      <td>NaN</td>\n",
       "    </tr>\n",
       "    <tr>\n",
       "      <th>5</th>\n",
       "      <td>NaN</td>\n",
       "      <td>0.559150</td>\n",
       "      <td>0.718600</td>\n",
       "      <td>NaN</td>\n",
       "    </tr>\n",
       "    <tr>\n",
       "      <th>6</th>\n",
       "      <td>Свертки_N</td>\n",
       "      <td>0.559150</td>\n",
       "      <td>0.718600</td>\n",
       "      <td>NaN</td>\n",
       "    </tr>\n",
       "    <tr>\n",
       "      <th>7</th>\n",
       "      <td>SimpleRNN_N</td>\n",
       "      <td>0.694552</td>\n",
       "      <td>0.492483</td>\n",
       "      <td>NaN</td>\n",
       "    </tr>\n",
       "    <tr>\n",
       "      <th>8</th>\n",
       "      <td>LSTM_N</td>\n",
       "      <td>0.553618</td>\n",
       "      <td>0.718335</td>\n",
       "      <td>NaN</td>\n",
       "    </tr>\n",
       "    <tr>\n",
       "      <th>9</th>\n",
       "      <td>GRU_N</td>\n",
       "      <td>0.561338</td>\n",
       "      <td>0.719482</td>\n",
       "      <td>NaN</td>\n",
       "    </tr>\n",
       "    <tr>\n",
       "      <th>10</th>\n",
       "      <td>model_bi_N</td>\n",
       "      <td>0.556373</td>\n",
       "      <td>0.723008</td>\n",
       "      <td>NaN</td>\n",
       "    </tr>\n",
       "    <tr>\n",
       "      <th>11</th>\n",
       "      <td>model_bi_N</td>\n",
       "      <td>0.556373</td>\n",
       "      <td>0.723008</td>\n",
       "      <td>NaN</td>\n",
       "    </tr>\n",
       "    <tr>\n",
       "      <th>12</th>\n",
       "      <td>Свертки_N</td>\n",
       "      <td>0.585054</td>\n",
       "      <td>0.708945</td>\n",
       "      <td>00:00:29</td>\n",
       "    </tr>\n",
       "    <tr>\n",
       "      <th>13</th>\n",
       "      <td>Свертки_N_8000</td>\n",
       "      <td>0.585054</td>\n",
       "      <td>0.708945</td>\n",
       "      <td>00:00:29</td>\n",
       "    </tr>\n",
       "  </tbody>\n",
       "</table>\n",
       "</div>"
      ],
      "text/plain": [
       "             model  Test_score  Test_accuracy      time\n",
       "0        SimpleRNN    0.693551       0.501609       NaN\n",
       "1          Свертки    1.510216       0.707667       NaN\n",
       "2             LSTM    1.794874       0.703743       NaN\n",
       "3              GRU    0.625548       0.727770       NaN\n",
       "4         model_bi    0.613900       0.739276       NaN\n",
       "5              NaN    0.559150       0.718600       NaN\n",
       "6        Свертки_N    0.559150       0.718600       NaN\n",
       "7      SimpleRNN_N    0.694552       0.492483       NaN\n",
       "8           LSTM_N    0.553618       0.718335       NaN\n",
       "9            GRU_N    0.561338       0.719482       NaN\n",
       "10      model_bi_N    0.556373       0.723008       NaN\n",
       "11      model_bi_N    0.556373       0.723008       NaN\n",
       "12       Свертки_N    0.585054       0.708945  00:00:29\n",
       "13  Свертки_N_8000    0.585054       0.708945  00:00:29"
      ]
     },
     "execution_count": 115,
     "metadata": {},
     "output_type": "execute_result"
    }
   ],
   "source": [
    "res"
   ]
  },
  {
   "cell_type": "markdown",
   "id": "12763ff6",
   "metadata": {},
   "source": [
    "# RNN"
   ]
  },
  {
   "cell_type": "markdown",
   "id": "9e1c7653",
   "metadata": {},
   "source": [
    "## SimpleRNN"
   ]
  },
  {
   "cell_type": "code",
   "execution_count": 116,
   "id": "ad28bc21",
   "metadata": {},
   "outputs": [
    {
     "name": "stdout",
     "output_type": "stream",
     "text": [
      "Model: \"sequential_8\"\n",
      "_________________________________________________________________\n",
      " Layer (type)                Output Shape              Param #   \n",
      "=================================================================\n",
      " embedding_8 (Embedding)     (None, 31, 30)            2896800   \n",
      "                                                                 \n",
      " masking_4 (Masking)         (None, 31, 30)            0         \n",
      "                                                                 \n",
      " simple_rnn_1 (SimpleRNN)    (None, 64)                6080      \n",
      "                                                                 \n",
      " dense_16 (Dense)            (None, 64)                4160      \n",
      "                                                                 \n",
      " dropout_4 (Dropout)         (None, 64)                0         \n",
      "                                                                 \n",
      " dense_17 (Dense)            (None, 2)                 130       \n",
      "                                                                 \n",
      "=================================================================\n",
      "Total params: 2,907,170\n",
      "Trainable params: 2,907,170\n",
      "Non-trainable params: 0\n",
      "_________________________________________________________________\n"
     ]
    }
   ],
   "source": [
    "model_rnn = Sequential()\n",
    "\n",
    "model_rnn.add(\n",
    "    Embedding(input_dim=word_count,\n",
    "              input_length=training_length,\n",
    "              output_dim=30,\n",
    "              trainable=True,\n",
    "              mask_zero=True))\n",
    "model_rnn.add(Masking(mask_value=0.0))\n",
    "\n",
    "model_rnn.add(SimpleRNN(64))\n",
    "model_rnn.add(Dense(64, activation='relu'))\n",
    "model_rnn.add(Dropout(0.5))\n",
    "model_rnn.add(Dense(2, activation='sigmoid'))\n",
    "\n",
    "model_rnn.compile(\n",
    "    optimizer='adam', loss='binary_crossentropy', metrics=['accuracy'])\n",
    "model_rnn.summary()"
   ]
  },
  {
   "cell_type": "code",
   "execution_count": null,
   "id": "d0e962fe",
   "metadata": {},
   "outputs": [],
   "source": []
  },
  {
   "cell_type": "code",
   "execution_count": 117,
   "id": "e127f7f1",
   "metadata": {},
   "outputs": [
    {
     "name": "stdout",
     "output_type": "stream",
     "text": [
      "Epoch 1/10\n",
      "319/319 [==============================] - 15s 48ms/step - loss: 0.3814 - accuracy: 0.8274 - val_loss: 0.6280 - val_accuracy: 0.7056\n",
      "Epoch 2/10\n",
      "319/319 [==============================] - 14s 43ms/step - loss: 0.3199 - accuracy: 0.8622 - val_loss: 0.6971 - val_accuracy: 0.6978\n",
      "Wall time: 29.2 s\n"
     ]
    }
   ],
   "source": [
    "%%time\n",
    "start = time.time()\n",
    "early_stopping=EarlyStopping(monitor='val_loss')  \n",
    "\n",
    "\n",
    "history = model.fit(X_train, y_train,\n",
    "                    batch_size=batch_size,\n",
    "                    epochs=epochs,\n",
    "                    verbose=1,\n",
    "                    validation_split=0.1,\n",
    "                    callbacks=[early_stopping])\n",
    "end = time.time()\n",
    "time_con = exec_time(start,end)"
   ]
  },
  {
   "cell_type": "code",
   "execution_count": 118,
   "id": "9f1a37df",
   "metadata": {},
   "outputs": [
    {
     "name": "stdout",
     "output_type": "stream",
     "text": [
      "45/45 [==============================] - 1s 9ms/step - loss: 0.6971 - accuracy: 0.4954\n",
      "\n",
      "\n",
      "Test score: 0.6970599293708801\n",
      "Test accuracy: 0.4954371154308319\n"
     ]
    }
   ],
   "source": [
    "score = model_rnn.evaluate(X_valid, y_val, batch_size=512, verbose=1)\n",
    "print('\\n')\n",
    "print('Test score:', score[0])\n",
    "print('Test accuracy:', score[1])\n",
    "result = {'model':'SimpleRNN_N_8000', 'Test_score': score[0], 'Test_accuracy': score[1], 'time': time_con}\n",
    "res = res.append(result,ignore_index=True)"
   ]
  },
  {
   "cell_type": "markdown",
   "id": "64676544",
   "metadata": {},
   "source": [
    "## lstm"
   ]
  },
  {
   "cell_type": "code",
   "execution_count": null,
   "id": "b4e60b5e",
   "metadata": {},
   "outputs": [],
   "source": []
  },
  {
   "cell_type": "code",
   "execution_count": 119,
   "id": "0d6cd8e2",
   "metadata": {},
   "outputs": [
    {
     "name": "stdout",
     "output_type": "stream",
     "text": [
      "Epoch 1/10\n",
      "319/319 [==============================] - 43s 124ms/step - loss: 0.5999 - accuracy: 0.6703 - val_loss: 0.5579 - val_accuracy: 0.7101\n",
      "Epoch 2/10\n",
      "319/319 [==============================] - 38s 119ms/step - loss: 0.5440 - accuracy: 0.7255 - val_loss: 0.5523 - val_accuracy: 0.7157\n",
      "Wall time: 1min 21s\n"
     ]
    }
   ],
   "source": [
    "%%time\n",
    "start = time.time()\n",
    "model_lstm = Sequential()\n",
    "\n",
    "model_lstm.add(\n",
    "    Embedding(input_dim=word_count,\n",
    "              input_length=training_length,\n",
    "              output_dim=30,\n",
    "              trainable=True,\n",
    "              mask_zero=True))\n",
    "model_lstm.add(Masking(mask_value=0.0))\n",
    "model_lstm.add(LSTM(64, recurrent_dropout=0.2))\n",
    "model_lstm.add(Dense(64, activation='relu'))\n",
    "model_lstm.add(Dropout(0.5))\n",
    "model_lstm.add(Dense(2, activation='sigmoid'))\n",
    "\n",
    "model_lstm.compile(\n",
    "    optimizer='adam', loss='binary_crossentropy', metrics=['accuracy'])\n",
    "\n",
    "early_stopping=EarlyStopping(monitor='val_loss')  \n",
    "\n",
    "\n",
    "history = model_lstm.fit(X_train, y_train,\n",
    "                    batch_size=batch_size,\n",
    "                    epochs=epochs,\n",
    "                    verbose=1,\n",
    "                    validation_split=0.1,\n",
    "                    callbacks=[early_stopping])\n",
    "end = time.time()\n",
    "time_con = exec_time(start,end)"
   ]
  },
  {
   "cell_type": "code",
   "execution_count": 120,
   "id": "ea8318de",
   "metadata": {},
   "outputs": [
    {
     "name": "stdout",
     "output_type": "stream",
     "text": [
      "45/45 [==============================] - 1s 20ms/step - loss: 0.5570 - accuracy: 0.7094\n",
      "\n",
      "\n",
      "Test score: 0.556999146938324\n",
      "Test accuracy: 0.709385871887207\n"
     ]
    }
   ],
   "source": [
    "score = model_lstm.evaluate(X_valid, y_val, batch_size=512, verbose=1)\n",
    "print('\\n')\n",
    "print('Test score:', score[0])\n",
    "print('Test accuracy:', score[1])\n",
    "result = {'model':'LSTM_N_8000', 'Test_score': score[0], 'Test_accuracy': score[1], 'time':time_con}\n",
    "res = res.append(result,ignore_index=True)"
   ]
  },
  {
   "cell_type": "markdown",
   "id": "b12b3f24",
   "metadata": {},
   "source": [
    "## GRU"
   ]
  },
  {
   "cell_type": "code",
   "execution_count": null,
   "id": "8170036f",
   "metadata": {},
   "outputs": [],
   "source": []
  },
  {
   "cell_type": "code",
   "execution_count": 121,
   "id": "b8a1e47c",
   "metadata": {},
   "outputs": [
    {
     "name": "stdout",
     "output_type": "stream",
     "text": [
      "Epoch 1/10\n",
      "319/319 [==============================] - 50s 149ms/step - loss: 0.5958 - accuracy: 0.6759 - val_loss: 0.5568 - val_accuracy: 0.7096\n",
      "Epoch 2/10\n",
      "319/319 [==============================] - 33s 102ms/step - loss: 0.5430 - accuracy: 0.7255 - val_loss: 0.5515 - val_accuracy: 0.7146\n"
     ]
    }
   ],
   "source": [
    "start = time.time()\n",
    "model_gru = Sequential()\n",
    "\n",
    "model_gru.add(\n",
    "    Embedding(input_dim=word_count,\n",
    "              input_length=training_length,\n",
    "              output_dim=30,\n",
    "              trainable=True,\n",
    "              mask_zero=True))\n",
    "model_gru.add(Masking(mask_value=0.0))\n",
    "model_gru.add(GRU(64, recurrent_dropout=0.2))\n",
    "model_gru.add(Dense(64, activation='relu'))\n",
    "model_gru.add(Dropout(0.5))\n",
    "model_gru.add(Dense(2, activation='sigmoid'))\n",
    "\n",
    "model_gru.compile(\n",
    "    optimizer='adam', loss='binary_crossentropy', metrics=['accuracy'])\n",
    "\n",
    "early_stopping=EarlyStopping(monitor='val_loss')  \n",
    "\n",
    "\n",
    "history = model_gru.fit(X_train, y_train,\n",
    "                    batch_size=512,\n",
    "                    epochs=10,\n",
    "                    verbose=1,\n",
    "                    validation_split=0.1,\n",
    "                    callbacks=[early_stopping])\n",
    "end = time.time()\n",
    "time_con = exec_time(start,end)"
   ]
  },
  {
   "cell_type": "code",
   "execution_count": 122,
   "id": "f7ba6aae",
   "metadata": {},
   "outputs": [
    {
     "name": "stdout",
     "output_type": "stream",
     "text": [
      "45/45 [==============================] - 1s 17ms/step - loss: 0.5553 - accuracy: 0.7135\n",
      "\n",
      "\n",
      "Test score: 0.5552549958229065\n",
      "Test accuracy: 0.7135299444198608\n"
     ]
    }
   ],
   "source": [
    "score = model_gru.evaluate(X_valid, y_val, batch_size=512, verbose=1)\n",
    "print('\\n')\n",
    "print('Test score:', score[0])\n",
    "print('Test accuracy:', score[1])\n",
    "result = {'model':'GRU_N_8000', 'Test_score': score[0], 'Test_accuracy': score[1],'time':time_con}\n",
    "res = res.append(result,ignore_index=True)"
   ]
  },
  {
   "cell_type": "markdown",
   "id": "39860935",
   "metadata": {},
   "source": [
    "# CNN -> RNN"
   ]
  },
  {
   "cell_type": "code",
   "execution_count": null,
   "id": "d7e37eb2",
   "metadata": {},
   "outputs": [],
   "source": [
    "start = time.time()\n",
    "...\n",
    "...\n",
    "end = time.time()\n",
    "time_con = exec_time(start,end)"
   ]
  },
  {
   "cell_type": "code",
   "execution_count": 123,
   "id": "81facd7b",
   "metadata": {},
   "outputs": [
    {
     "name": "stdout",
     "output_type": "stream",
     "text": [
      "Epoch 1/10\n",
      "319/319 [==============================] - 27s 78ms/step - loss: 0.6058 - accuracy: 0.6577 - val_loss: 0.5561 - val_accuracy: 0.7085\n",
      "Epoch 2/10\n",
      "319/319 [==============================] - 25s 79ms/step - loss: 0.5326 - accuracy: 0.7337 - val_loss: 0.5476 - val_accuracy: 0.7160\n",
      "Wall time: 52.7 s\n"
     ]
    }
   ],
   "source": [
    "%%time\n",
    "start = time.time()\n",
    "model_bi = Sequential()\n",
    "\n",
    "model_bi.add(\n",
    "    Embedding(input_dim=word_count,\n",
    "              input_length=training_length,\n",
    "              output_dim=30,\n",
    "              trainable=True,\n",
    "              mask_zero=True))\n",
    "model_bi.add(Conv1D(30, 3, padding = 'same'))\n",
    "model_bi.add(Activation(\"tanh\"))\n",
    "model_bi.add(MaxPool1D(pool_size=3, strides=3))\n",
    "model_bi.add(Masking(mask_value=0.0))\n",
    "model_bi.add(LSTM(64, recurrent_dropout=0.2))\n",
    "model_bi.add(Dense(64, activation='relu'))\n",
    "model_bi.add(Dropout(0.5))\n",
    "model_bi.add(Dense(2, activation='sigmoid'))\n",
    "\n",
    "model_bi.compile(\n",
    "    optimizer='adam', loss='binary_crossentropy', metrics=['accuracy'])\n",
    "\n",
    "early_stopping=EarlyStopping(monitor='val_loss')  \n",
    "\n",
    "\n",
    "history = model_bi.fit(X_train, y_train,\n",
    "                    batch_size=batch_size,\n",
    "                    epochs=epochs,\n",
    "                    verbose=1,\n",
    "                    validation_split=0.1,\n",
    "                    callbacks=[early_stopping])\n",
    "end = time.time()\n",
    "time_con = exec_time(start,end)"
   ]
  },
  {
   "cell_type": "code",
   "execution_count": 124,
   "id": "de545da9",
   "metadata": {},
   "outputs": [
    {
     "name": "stdout",
     "output_type": "stream",
     "text": [
      "45/45 [==============================] - 0s 10ms/step - loss: 0.5536 - accuracy: 0.7144\n",
      "\n",
      "\n",
      "Test score: 0.5535793304443359\n",
      "Test accuracy: 0.7143675684928894\n"
     ]
    }
   ],
   "source": [
    "score = model_bi.evaluate(X_valid, y_val, batch_size=512, verbose=1)\n",
    "print('\\n')\n",
    "print('Test score:', score[0])\n",
    "print('Test accuracy:', score[1])\n",
    "result = {'model':'model_bi_N_8000', 'Test_score': score[0], 'Test_accuracy': score[1], 'time': time_con}\n",
    "res = res.append(result,ignore_index=True)"
   ]
  },
  {
   "cell_type": "code",
   "execution_count": 125,
   "id": "d92a1949",
   "metadata": {},
   "outputs": [
    {
     "data": {
      "text/html": [
       "<div>\n",
       "<style scoped>\n",
       "    .dataframe tbody tr th:only-of-type {\n",
       "        vertical-align: middle;\n",
       "    }\n",
       "\n",
       "    .dataframe tbody tr th {\n",
       "        vertical-align: top;\n",
       "    }\n",
       "\n",
       "    .dataframe thead th {\n",
       "        text-align: right;\n",
       "    }\n",
       "</style>\n",
       "<table border=\"1\" class=\"dataframe\">\n",
       "  <thead>\n",
       "    <tr style=\"text-align: right;\">\n",
       "      <th></th>\n",
       "      <th>model</th>\n",
       "      <th>Test_score</th>\n",
       "      <th>Test_accuracy</th>\n",
       "      <th>time</th>\n",
       "    </tr>\n",
       "  </thead>\n",
       "  <tbody>\n",
       "    <tr>\n",
       "      <th>0</th>\n",
       "      <td>SimpleRNN</td>\n",
       "      <td>0.693551</td>\n",
       "      <td>0.501609</td>\n",
       "      <td>NaN</td>\n",
       "    </tr>\n",
       "    <tr>\n",
       "      <th>1</th>\n",
       "      <td>Свертки</td>\n",
       "      <td>1.510216</td>\n",
       "      <td>0.707667</td>\n",
       "      <td>NaN</td>\n",
       "    </tr>\n",
       "    <tr>\n",
       "      <th>2</th>\n",
       "      <td>LSTM</td>\n",
       "      <td>1.794874</td>\n",
       "      <td>0.703743</td>\n",
       "      <td>NaN</td>\n",
       "    </tr>\n",
       "    <tr>\n",
       "      <th>3</th>\n",
       "      <td>GRU</td>\n",
       "      <td>0.625548</td>\n",
       "      <td>0.727770</td>\n",
       "      <td>NaN</td>\n",
       "    </tr>\n",
       "    <tr>\n",
       "      <th>4</th>\n",
       "      <td>model_bi</td>\n",
       "      <td>0.613900</td>\n",
       "      <td>0.739276</td>\n",
       "      <td>NaN</td>\n",
       "    </tr>\n",
       "    <tr>\n",
       "      <th>5</th>\n",
       "      <td>NaN</td>\n",
       "      <td>0.559150</td>\n",
       "      <td>0.718600</td>\n",
       "      <td>NaN</td>\n",
       "    </tr>\n",
       "    <tr>\n",
       "      <th>6</th>\n",
       "      <td>Свертки_N</td>\n",
       "      <td>0.559150</td>\n",
       "      <td>0.718600</td>\n",
       "      <td>NaN</td>\n",
       "    </tr>\n",
       "    <tr>\n",
       "      <th>7</th>\n",
       "      <td>SimpleRNN_N</td>\n",
       "      <td>0.694552</td>\n",
       "      <td>0.492483</td>\n",
       "      <td>NaN</td>\n",
       "    </tr>\n",
       "    <tr>\n",
       "      <th>8</th>\n",
       "      <td>LSTM_N</td>\n",
       "      <td>0.553618</td>\n",
       "      <td>0.718335</td>\n",
       "      <td>NaN</td>\n",
       "    </tr>\n",
       "    <tr>\n",
       "      <th>9</th>\n",
       "      <td>GRU_N</td>\n",
       "      <td>0.561338</td>\n",
       "      <td>0.719482</td>\n",
       "      <td>NaN</td>\n",
       "    </tr>\n",
       "    <tr>\n",
       "      <th>10</th>\n",
       "      <td>model_bi_N</td>\n",
       "      <td>0.556373</td>\n",
       "      <td>0.723008</td>\n",
       "      <td>NaN</td>\n",
       "    </tr>\n",
       "    <tr>\n",
       "      <th>11</th>\n",
       "      <td>model_bi_N</td>\n",
       "      <td>0.556373</td>\n",
       "      <td>0.723008</td>\n",
       "      <td>NaN</td>\n",
       "    </tr>\n",
       "    <tr>\n",
       "      <th>12</th>\n",
       "      <td>Свертки_N</td>\n",
       "      <td>0.585054</td>\n",
       "      <td>0.708945</td>\n",
       "      <td>00:00:29</td>\n",
       "    </tr>\n",
       "    <tr>\n",
       "      <th>13</th>\n",
       "      <td>Свертки_N_8000</td>\n",
       "      <td>0.585054</td>\n",
       "      <td>0.708945</td>\n",
       "      <td>00:00:29</td>\n",
       "    </tr>\n",
       "    <tr>\n",
       "      <th>14</th>\n",
       "      <td>SimpleRNN_N_8000</td>\n",
       "      <td>0.697060</td>\n",
       "      <td>0.495437</td>\n",
       "      <td>00:00:29</td>\n",
       "    </tr>\n",
       "    <tr>\n",
       "      <th>15</th>\n",
       "      <td>LSTM_N_8000</td>\n",
       "      <td>0.556999</td>\n",
       "      <td>0.709386</td>\n",
       "      <td>00:01:22</td>\n",
       "    </tr>\n",
       "    <tr>\n",
       "      <th>16</th>\n",
       "      <td>GRU_N_8000</td>\n",
       "      <td>0.555255</td>\n",
       "      <td>0.713530</td>\n",
       "      <td>00:01:23</td>\n",
       "    </tr>\n",
       "    <tr>\n",
       "      <th>17</th>\n",
       "      <td>model_bi_N_8000</td>\n",
       "      <td>0.553579</td>\n",
       "      <td>0.714368</td>\n",
       "      <td>00:00:53</td>\n",
       "    </tr>\n",
       "  </tbody>\n",
       "</table>\n",
       "</div>"
      ],
      "text/plain": [
       "               model  Test_score  Test_accuracy      time\n",
       "0          SimpleRNN    0.693551       0.501609       NaN\n",
       "1            Свертки    1.510216       0.707667       NaN\n",
       "2               LSTM    1.794874       0.703743       NaN\n",
       "3                GRU    0.625548       0.727770       NaN\n",
       "4           model_bi    0.613900       0.739276       NaN\n",
       "5                NaN    0.559150       0.718600       NaN\n",
       "6          Свертки_N    0.559150       0.718600       NaN\n",
       "7        SimpleRNN_N    0.694552       0.492483       NaN\n",
       "8             LSTM_N    0.553618       0.718335       NaN\n",
       "9              GRU_N    0.561338       0.719482       NaN\n",
       "10        model_bi_N    0.556373       0.723008       NaN\n",
       "11        model_bi_N    0.556373       0.723008       NaN\n",
       "12         Свертки_N    0.585054       0.708945  00:00:29\n",
       "13    Свертки_N_8000    0.585054       0.708945  00:00:29\n",
       "14  SimpleRNN_N_8000    0.697060       0.495437  00:00:29\n",
       "15       LSTM_N_8000    0.556999       0.709386  00:01:22\n",
       "16        GRU_N_8000    0.555255       0.713530  00:01:23\n",
       "17   model_bi_N_8000    0.553579       0.714368  00:00:53"
      ]
     },
     "execution_count": 125,
     "metadata": {},
     "output_type": "execute_result"
    }
   ],
   "source": [
    "res"
   ]
  },
  {
   "cell_type": "markdown",
   "id": "18ad201c",
   "metadata": {},
   "source": [
    "Данных видимо мало и они не очень хорошие, в первый раз модель lstm на плохо обработанных данных я убрал остановку по валидации и модель заметно переобучилась, на трейне была точность 0.98, а на тесте 0.7 и не увеличивалась, после предобработки текста которая убрала числа, не нужные знаки, это модели с префиксом _N результат в некоторых стал лучше, но не значительно, можно сказать, что осталось также  \n",
    "   \n",
    "Модели с префиксом _ N _ 8000 это модели обучающиеся на 8000 токенах самых популярных, но опять же результат у всех одинаковый  \n",
    "  \n",
    "Хуже всех показала себя simple_rnn, самая оптимальная это сверточная сеть, время в два раза меньше, а результат как у lstm и gru  \n",
    "  \n",
    "Интересная модель получилась обьедененная свертка и lstm, везде самый лучший результат \n",
    "  \n",
    "Я думаю на хороших данных результат у lstm, lstm + свертки и gru был бы лучше  \n"
   ]
  },
  {
   "cell_type": "code",
   "execution_count": 126,
   "id": "fe7c8dbe",
   "metadata": {},
   "outputs": [],
   "source": [
    "# res.to_pickle('result.pkl')"
   ]
  }
 ],
 "metadata": {
  "kernelspec": {
   "display_name": "Python 3 (ipykernel)",
   "language": "python",
   "name": "python3"
  },
  "language_info": {
   "codemirror_mode": {
    "name": "ipython",
    "version": 3
   },
   "file_extension": ".py",
   "mimetype": "text/x-python",
   "name": "python",
   "nbconvert_exporter": "python",
   "pygments_lexer": "ipython3",
   "version": "3.7.9"
  }
 },
 "nbformat": 4,
 "nbformat_minor": 5
}
