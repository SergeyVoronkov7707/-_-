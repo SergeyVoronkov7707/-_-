{
 "cells": [
  {
   "cell_type": "markdown",
   "id": "a879be78",
   "metadata": {},
   "source": [
    "1. объединить в одну выборку  \n",
    "2. на основе word2vec/fasttext/glove/слоя Embedding реализовать метод поиска ближайших твитов\n",
    "(на вход метода должен приходить запрос (какой-то твит, вопрос) и количество вариантов вывода к примеру 5-ть, ваш метод должен возвращать 5-ть ближайших твитов к этому запросу)  \n",
    "3. Проверить насколько хорошо работают подходы  "
   ]
  },
  {
   "cell_type": "code",
   "execution_count": 1,
   "id": "cb6cae4e",
   "metadata": {},
   "outputs": [],
   "source": [
    "import pandas as pd\n",
    "import numpy as np\n",
    "import re\n",
    "import os\n",
    "\n",
    "from sklearn.metrics import *\n",
    "from sklearn.model_selection import train_test_split\n",
    "from sklearn.pipeline import Pipeline\n",
    "from sklearn.linear_model import LogisticRegression \n",
    "from sklearn.feature_extraction.text import CountVectorizer\n",
    "from sklearn.feature_extraction.text import TfidfVectorizer\n",
    "\n",
    "import matplotlib.pyplot as plt\n",
    "import seaborn as sns\n",
    "\n",
    "import nltk\n",
    "from nltk import ngrams\n",
    "\n",
    "from collections import Counter\n",
    "from nltk.tokenize import word_tokenize\n",
    "\n",
    "import string\n",
    "from pymorphy2 import MorphAnalyzer\n",
    "from stop_words import get_stop_words\n",
    "\n",
    "import annoy\n",
    "from gensim.models import Word2Vec, FastText\n",
    "import pickle\n",
    "\n",
    "from tqdm import tqdm_notebook\n",
    "\n",
    "import warnings \n",
    "warnings.filterwarnings(\"ignore\", category=DeprecationWarning)"
   ]
  },
  {
   "cell_type": "markdown",
   "id": "4dace67e",
   "metadata": {},
   "source": [
    "# объединить в одну выборку"
   ]
  },
  {
   "cell_type": "code",
   "execution_count": 2,
   "id": "f43f9afb",
   "metadata": {},
   "outputs": [],
   "source": [
    "# считываем данные и заполняем общий датасет\n",
    "positive = pd.read_csv('positive.csv', sep=';', usecols=[3], names=['text'])\n",
    "positive['label'] = ['positive'] * len(positive)\n",
    "negative = pd.read_csv('negative.csv', sep=';', usecols=[3], names=['text'])\n",
    "negative['label'] = ['negative'] * len(negative)\n",
    "df = positive.append(negative)"
   ]
  },
  {
   "cell_type": "markdown",
   "id": "ccba3c54",
   "metadata": {},
   "source": [
    "# на основе word2vec/fasttext/glove/слоя Embedding реализовать метод поиска ближайших твитов (на вход метода должен приходить запрос (какой-то твит, вопрос) и количество вариантов вывода к примеру 5-ть, ваш метод должен возвращать 5-ть ближайших твитов к этому запросу)"
   ]
  },
  {
   "cell_type": "code",
   "execution_count": 3,
   "id": "f73f4f11",
   "metadata": {},
   "outputs": [
    {
     "data": {
      "text/html": [
       "<div>\n",
       "<style scoped>\n",
       "    .dataframe tbody tr th:only-of-type {\n",
       "        vertical-align: middle;\n",
       "    }\n",
       "\n",
       "    .dataframe tbody tr th {\n",
       "        vertical-align: top;\n",
       "    }\n",
       "\n",
       "    .dataframe thead th {\n",
       "        text-align: right;\n",
       "    }\n",
       "</style>\n",
       "<table border=\"1\" class=\"dataframe\">\n",
       "  <thead>\n",
       "    <tr style=\"text-align: right;\">\n",
       "      <th></th>\n",
       "      <th>text</th>\n",
       "      <th>label</th>\n",
       "    </tr>\n",
       "  </thead>\n",
       "  <tbody>\n",
       "    <tr>\n",
       "      <th>0</th>\n",
       "      <td>@first_timee хоть я и школота, но поверь, у на...</td>\n",
       "      <td>positive</td>\n",
       "    </tr>\n",
       "    <tr>\n",
       "      <th>1</th>\n",
       "      <td>Да, все-таки он немного похож на него. Но мой ...</td>\n",
       "      <td>positive</td>\n",
       "    </tr>\n",
       "    <tr>\n",
       "      <th>2</th>\n",
       "      <td>RT @KatiaCheh: Ну ты идиотка) я испугалась за ...</td>\n",
       "      <td>positive</td>\n",
       "    </tr>\n",
       "    <tr>\n",
       "      <th>3</th>\n",
       "      <td>RT @digger2912: \"Кто то в углу сидит и погибае...</td>\n",
       "      <td>positive</td>\n",
       "    </tr>\n",
       "    <tr>\n",
       "      <th>4</th>\n",
       "      <td>@irina_dyshkant Вот что значит страшилка :D\\nН...</td>\n",
       "      <td>positive</td>\n",
       "    </tr>\n",
       "  </tbody>\n",
       "</table>\n",
       "</div>"
      ],
      "text/plain": [
       "                                                text     label\n",
       "0  @first_timee хоть я и школота, но поверь, у на...  positive\n",
       "1  Да, все-таки он немного похож на него. Но мой ...  positive\n",
       "2  RT @KatiaCheh: Ну ты идиотка) я испугалась за ...  positive\n",
       "3  RT @digger2912: \"Кто то в углу сидит и погибае...  positive\n",
       "4  @irina_dyshkant Вот что значит страшилка :D\\nН...  positive"
      ]
     },
     "execution_count": 3,
     "metadata": {},
     "output_type": "execute_result"
    }
   ],
   "source": [
    "df.head()"
   ]
  },
  {
   "cell_type": "markdown",
   "id": "2c576d3f",
   "metadata": {},
   "source": [
    " функция удаления слов которые начинаются с @"
   ]
  },
  {
   "cell_type": "code",
   "execution_count": 4,
   "id": "5d537de2",
   "metadata": {},
   "outputs": [],
   "source": [
    "def funk_del(input_txt):\n",
    "    pattern = \"@[\\w]*\"\n",
    "    if re.findall(pattern, input_txt):\n",
    "        return re.sub(pattern, ' ', input_txt)\n",
    "    else:\n",
    "        return re.sub(pattern, ' ', input_txt)\n"
   ]
  },
  {
   "cell_type": "markdown",
   "id": "e15c01a6",
   "metadata": {},
   "source": [
    "Очищаю твиты от слов которые начинаются с @, убираю знаки препинания и все не русские буквы, привожу к нижнему ригистру"
   ]
  },
  {
   "cell_type": "code",
   "execution_count": 5,
   "id": "66731a69",
   "metadata": {},
   "outputs": [],
   "source": [
    "df['text'] = df.text.apply(funk_del)"
   ]
  },
  {
   "cell_type": "code",
   "execution_count": 6,
   "id": "43cf8df8",
   "metadata": {},
   "outputs": [],
   "source": [
    "# pattern = r'[^\\w\\s]'\n",
    "# df['text'] = df['text'].apply(lambda x: re.sub(pattern, ' ', x))"
   ]
  },
  {
   "cell_type": "code",
   "execution_count": 7,
   "id": "eae4f290",
   "metadata": {},
   "outputs": [],
   "source": [
    "pattern = r'[^а-яА-Я0-9]'\n",
    "df['text'] = df['text'].apply(lambda x: re.sub(pattern, ' ', x))"
   ]
  },
  {
   "cell_type": "code",
   "execution_count": 8,
   "id": "c43d1efe",
   "metadata": {},
   "outputs": [],
   "source": [
    "# df['text'] = df['text'].str.lower()"
   ]
  },
  {
   "cell_type": "code",
   "execution_count": 9,
   "id": "c4309c1c",
   "metadata": {},
   "outputs": [],
   "source": [
    "# df['text'] = df['text'].apply(lambda x: [''.join(str(i.lower())) for i in x.split()])"
   ]
  },
  {
   "cell_type": "code",
   "execution_count": 7,
   "id": "9f8f83e7",
   "metadata": {},
   "outputs": [
    {
     "data": {
      "text/html": [
       "<div>\n",
       "<style scoped>\n",
       "    .dataframe tbody tr th:only-of-type {\n",
       "        vertical-align: middle;\n",
       "    }\n",
       "\n",
       "    .dataframe tbody tr th {\n",
       "        vertical-align: top;\n",
       "    }\n",
       "\n",
       "    .dataframe thead th {\n",
       "        text-align: right;\n",
       "    }\n",
       "</style>\n",
       "<table border=\"1\" class=\"dataframe\">\n",
       "  <thead>\n",
       "    <tr style=\"text-align: right;\">\n",
       "      <th></th>\n",
       "      <th>text</th>\n",
       "      <th>label</th>\n",
       "    </tr>\n",
       "  </thead>\n",
       "  <tbody>\n",
       "    <tr>\n",
       "      <th>0</th>\n",
       "      <td>хоть я и школота  но поверь  у нас то же сам...</td>\n",
       "      <td>positive</td>\n",
       "    </tr>\n",
       "    <tr>\n",
       "      <th>1</th>\n",
       "      <td>Да  все таки он немного похож на него  Но мой ...</td>\n",
       "      <td>positive</td>\n",
       "    </tr>\n",
       "    <tr>\n",
       "      <th>2</th>\n",
       "      <td>Ну ты идиотка  я испугалась за тебя</td>\n",
       "      <td>positive</td>\n",
       "    </tr>\n",
       "    <tr>\n",
       "      <th>3</th>\n",
       "      <td>Кто то в углу сидит и погибает от голод...</td>\n",
       "      <td>positive</td>\n",
       "    </tr>\n",
       "    <tr>\n",
       "      <th>4</th>\n",
       "      <td>Вот что значит страшилка    Но блин посмотре...</td>\n",
       "      <td>positive</td>\n",
       "    </tr>\n",
       "  </tbody>\n",
       "</table>\n",
       "</div>"
      ],
      "text/plain": [
       "                                                text     label\n",
       "0    хоть я и школота  но поверь  у нас то же сам...  positive\n",
       "1  Да  все таки он немного похож на него  Но мой ...  positive\n",
       "2             Ну ты идиотка  я испугалась за тебя     positive\n",
       "3         Кто то в углу сидит и погибает от голод...  positive\n",
       "4    Вот что значит страшилка    Но блин посмотре...  positive"
      ]
     },
     "execution_count": 7,
     "metadata": {},
     "output_type": "execute_result"
    }
   ],
   "source": [
    "df.head()"
   ]
  },
  {
   "cell_type": "code",
   "execution_count": 11,
   "id": "676b2518",
   "metadata": {},
   "outputs": [
    {
     "data": {
      "text/plain": [
       "(226834, 2)"
      ]
     },
     "execution_count": 11,
     "metadata": {},
     "output_type": "execute_result"
    }
   ],
   "source": [
    "df.shape"
   ]
  },
  {
   "cell_type": "markdown",
   "id": "36148ad5",
   "metadata": {},
   "source": [
    "функция preprocess_txt еще одна обработка текста, и еще приводит слова к нормальной форме"
   ]
  },
  {
   "cell_type": "code",
   "execution_count": 8,
   "id": "56372cce",
   "metadata": {},
   "outputs": [],
   "source": [
    "def preprocess_txt(line):\n",
    "    spls = \"\".join(i for i in line.strip() if i not in exclude).split()\n",
    "    spls = [morpher.parse(i.lower())[0].normal_form for i in spls]\n",
    "    spls = [i for i in spls if i not in sw and i != \"\"]\n",
    "    return spls"
   ]
  },
  {
   "cell_type": "markdown",
   "id": "5f42b14b",
   "metadata": {},
   "source": [
    "предобработка текста и приведение к нормальной форме"
   ]
  },
  {
   "cell_type": "code",
   "execution_count": 16,
   "id": "2ac12e2c",
   "metadata": {},
   "outputs": [
    {
     "data": {
      "application/vnd.jupyter.widget-view+json": {
       "model_id": "6cdac3aa42204bb4b507853d5104e4a7",
       "version_major": 2,
       "version_minor": 0
      },
      "text/plain": [
       "  0%|          | 0/226834 [00:00<?, ?it/s]"
      ]
     },
     "metadata": {},
     "output_type": "display_data"
    }
   ],
   "source": [
    "sentences = []\n",
    "counter = 0\n",
    "morpher = MorphAnalyzer()\n",
    "sw = set(get_stop_words(\"ru\"))\n",
    "exclude = set(string.punctuation)\n",
    "c = 0\n",
    "for line in tqdm_notebook(df.text):\n",
    "#     print(line)\n",
    "    spls = preprocess_txt(line)\n",
    "    sentences.append(spls)\n",
    "    \n",
    "    counter += 1\n",
    "        \n",
    "    if counter > 100000:\n",
    "        break\n",
    "    "
   ]
  },
  {
   "cell_type": "code",
   "execution_count": 17,
   "id": "8d6e95dc",
   "metadata": {},
   "outputs": [],
   "source": [
    "# sentences = [i for i in sentences if len(i) > 2]"
   ]
  },
  {
   "cell_type": "code",
   "execution_count": 18,
   "id": "986461be",
   "metadata": {},
   "outputs": [
    {
     "data": {
      "text/plain": [
       "['школотый', 'поверь', 'самый', 'общество', 'профилировать', 'предмет', 'тип']"
      ]
     },
     "execution_count": 18,
     "metadata": {},
     "output_type": "execute_result"
    }
   ],
   "source": [
    "sentences[0]"
   ]
  },
  {
   "cell_type": "markdown",
   "id": "72200b84",
   "metadata": {},
   "source": [
    "создание модели word2Vec"
   ]
  },
  {
   "cell_type": "code",
   "execution_count": 19,
   "id": "a2599f1e",
   "metadata": {},
   "outputs": [],
   "source": [
    "modelW2V = Word2Vec(sentences=sentences, vector_size=300, window=5, min_count=2)\n"
   ]
  },
  {
   "cell_type": "markdown",
   "id": "d70ee6d5",
   "metadata": {},
   "source": [
    "создание модели fasttext"
   ]
  },
  {
   "cell_type": "code",
   "execution_count": 20,
   "id": "b89b5512",
   "metadata": {},
   "outputs": [],
   "source": [
    "modelFT = FastText(sentences=sentences, vector_size=300, min_count=2, window=5, workers=8)"
   ]
  },
  {
   "cell_type": "code",
   "execution_count": 21,
   "id": "1a65eb93",
   "metadata": {},
   "outputs": [],
   "source": [
    "# texts = [line for line in df.text]"
   ]
  },
  {
   "cell_type": "markdown",
   "id": "9616b907",
   "metadata": {},
   "source": [
    "создаю вектора длиной в 300 символов, где каждый вектор описывает один твит"
   ]
  },
  {
   "cell_type": "code",
   "execution_count": 22,
   "id": "bc2000ce",
   "metadata": {},
   "outputs": [
    {
     "data": {
      "application/vnd.jupyter.widget-view+json": {
       "model_id": "1a9efcf520c2427fa57603a39f20a9ce",
       "version_major": 2,
       "version_minor": 0
      },
      "text/plain": [
       "  0%|          | 0/226834 [00:00<?, ?it/s]"
      ]
     },
     "metadata": {},
     "output_type": "display_data"
    },
    {
     "data": {
      "text/plain": [
       "True"
      ]
     },
     "execution_count": 22,
     "metadata": {},
     "output_type": "execute_result"
    }
   ],
   "source": [
    "w2v_index = annoy.AnnoyIndex(300 ,'angular')\n",
    "ft_index = annoy.AnnoyIndex(300 ,'angular')\n",
    "\n",
    "index_map = {}\n",
    "counter = 0\n",
    "\n",
    "for line in tqdm_notebook(df.text):\n",
    "        n_w2v = 0\n",
    "        n_ft = 0\n",
    "        spls = line\n",
    "        index_map[counter] = spls\n",
    "        question = preprocess_txt(spls)\n",
    "        \n",
    "        vector_w2v = np.zeros(300)\n",
    "        vector_ft = np.zeros(300)\n",
    "        for word in question:\n",
    "            if word in modelW2V.wv:\n",
    "                vector_w2v += modelW2V.wv[word]\n",
    "                n_w2v += 1\n",
    "            if word in modelFT.wv:\n",
    "                vector_ft += modelFT.wv[word]\n",
    "                n_ft += 1\n",
    "        if n_w2v > 0:\n",
    "            vector_w2v = vector_w2v / n_w2v\n",
    "        if n_ft > 0:\n",
    "            vector_ft = vector_ft / n_ft\n",
    "        w2v_index.add_item(counter, vector_w2v)\n",
    "        ft_index.add_item(counter, vector_ft)\n",
    "            \n",
    "        counter += 1\n",
    "        # ограничение в  100000 строк\n",
    "        if counter > 100000:\n",
    "            break\n",
    "    \n",
    "\n",
    "w2v_index.build(10)\n",
    "ft_index.build(10)"
   ]
  },
  {
   "cell_type": "markdown",
   "id": "ebe72d7f",
   "metadata": {},
   "source": [
    "функция поиска ближайших 5 твитов"
   ]
  },
  {
   "cell_type": "code",
   "execution_count": 75,
   "id": "f94ea4de",
   "metadata": {},
   "outputs": [],
   "source": [
    "def get_response(question, index, model, index_map):\n",
    "    question = preprocess_txt(question)\n",
    "#     print(question)\n",
    "    vector = np.zeros(300)\n",
    "    norm = 0\n",
    "    for word in question:\n",
    "        if word in model.wv:\n",
    "            vector += model.wv[word]\n",
    "            norm += 1\n",
    "    if norm > 0:\n",
    "        vector = vector / norm\n",
    "    answers = index.get_nns_by_vector(vector, 5, )\n",
    "    return [index_map[i] for i in answers]"
   ]
  },
  {
   "cell_type": "code",
   "execution_count": 31,
   "id": "03562704",
   "metadata": {},
   "outputs": [
    {
     "data": {
      "text/plain": [
       "'Да  все таки он немного похож на него  Но мой мальчик все равно лучше  '"
      ]
     },
     "execution_count": 31,
     "metadata": {},
     "output_type": "execute_result"
    }
   ],
   "source": [
    "TEXT = df.text.iloc[1]\n",
    "# TEXT = 'покажи мне коментарии'\n",
    "TEXT"
   ]
  },
  {
   "cell_type": "code",
   "execution_count": 41,
   "id": "16bbc934",
   "metadata": {},
   "outputs": [
    {
     "data": {
      "text/plain": [
       "True"
      ]
     },
     "execution_count": 41,
     "metadata": {},
     "output_type": "execute_result"
    }
   ],
   "source": [
    "'да  все таки он немного похож на него  но мой мальчик все равно лучше  ' in a"
   ]
  },
  {
   "cell_type": "markdown",
   "id": "ed56b5fa",
   "metadata": {},
   "source": [
    "5 похожих твитов на можели w2w"
   ]
  },
  {
   "cell_type": "code",
   "execution_count": 76,
   "id": "3dce42fd",
   "metadata": {},
   "outputs": [
    {
     "data": {
      "text/plain": [
       "['да  все таки он немного похож на него  но мой мальчик все равно лучше  ',\n",
       " 'все равно  я бы чувствовала себя лучше  если бы здесь была женщина детектив                  ',\n",
       " 'поступки  но если материшься  выражаешься  то все равно человек не воспитанный всего хорошего    ',\n",
       " 'ребятки  вы все равно молодцы  хоть один раз проиграли  для нас вы лучшие  ',\n",
       " 'у меня      в папке                       таки вирус поймал  какой хороший не эмулятор    ']"
      ]
     },
     "execution_count": 76,
     "metadata": {},
     "output_type": "execute_result"
    }
   ],
   "source": [
    "get_response(TEXT, w2v_index, modelW2V, index_map)"
   ]
  },
  {
   "cell_type": "markdown",
   "id": "7a8d609d",
   "metadata": {},
   "source": [
    "5 похожих твитов на можели fasttext"
   ]
  },
  {
   "cell_type": "code",
   "execution_count": 35,
   "id": "ea89f9a1",
   "metadata": {},
   "outputs": [
    {
     "data": {
      "text/plain": [
       "['да  все таки он немного похож на него  но мой мальчик все равно лучше  ',\n",
       " '    если честно  так все красавчики      и плохие и хорошие ',\n",
       " '  неожиданно но красиво  все равно вы лучше исполняете песню              ',\n",
       " 'все равно  я бы чувствовала себя лучше  если бы здесь была женщина детектив                  ',\n",
       " 'и вс  таки  дпсники хорошие люди   второй раз уже фортит ']"
      ]
     },
     "execution_count": 35,
     "metadata": {},
     "output_type": "execute_result"
    }
   ],
   "source": [
    "get_response(TEXT, ft_index, modelFT, index_map)"
   ]
  },
  {
   "cell_type": "markdown",
   "id": "80934fe7",
   "metadata": {},
   "source": [
    "# embedding"
   ]
  },
  {
   "cell_type": "code",
   "execution_count": 114,
   "id": "10f0a9fb",
   "metadata": {},
   "outputs": [],
   "source": [
    "df.text = df.text.str.lower()"
   ]
  },
  {
   "cell_type": "code",
   "execution_count": 115,
   "id": "113eab7c",
   "metadata": {},
   "outputs": [
    {
     "data": {
      "text/html": [
       "<div>\n",
       "<style scoped>\n",
       "    .dataframe tbody tr th:only-of-type {\n",
       "        vertical-align: middle;\n",
       "    }\n",
       "\n",
       "    .dataframe tbody tr th {\n",
       "        vertical-align: top;\n",
       "    }\n",
       "\n",
       "    .dataframe thead th {\n",
       "        text-align: right;\n",
       "    }\n",
       "</style>\n",
       "<table border=\"1\" class=\"dataframe\">\n",
       "  <thead>\n",
       "    <tr style=\"text-align: right;\">\n",
       "      <th></th>\n",
       "      <th>text</th>\n",
       "      <th>label</th>\n",
       "    </tr>\n",
       "  </thead>\n",
       "  <tbody>\n",
       "    <tr>\n",
       "      <th>0</th>\n",
       "      <td>хоть я и школота  но поверь  у нас то же сам...</td>\n",
       "      <td>positive</td>\n",
       "    </tr>\n",
       "    <tr>\n",
       "      <th>1</th>\n",
       "      <td>да  все таки он немного похож на него  но мой ...</td>\n",
       "      <td>positive</td>\n",
       "    </tr>\n",
       "    <tr>\n",
       "      <th>2</th>\n",
       "      <td>ну ты идиотка  я испугалась за тебя</td>\n",
       "      <td>positive</td>\n",
       "    </tr>\n",
       "    <tr>\n",
       "      <th>3</th>\n",
       "      <td>кто то в углу сидит и погибает от голод...</td>\n",
       "      <td>positive</td>\n",
       "    </tr>\n",
       "    <tr>\n",
       "      <th>4</th>\n",
       "      <td>вот что значит страшилка    но блин посмотре...</td>\n",
       "      <td>positive</td>\n",
       "    </tr>\n",
       "  </tbody>\n",
       "</table>\n",
       "</div>"
      ],
      "text/plain": [
       "                                                text     label\n",
       "0    хоть я и школота  но поверь  у нас то же сам...  positive\n",
       "1  да  все таки он немного похож на него  но мой ...  positive\n",
       "2             ну ты идиотка  я испугалась за тебя     positive\n",
       "3         кто то в углу сидит и погибает от голод...  positive\n",
       "4    вот что значит страшилка    но блин посмотре...  positive"
      ]
     },
     "execution_count": 115,
     "metadata": {},
     "output_type": "execute_result"
    }
   ],
   "source": [
    "df.head()"
   ]
  },
  {
   "cell_type": "markdown",
   "id": "ecf58229",
   "metadata": {},
   "source": [
    "токенизация твитов"
   ]
  },
  {
   "cell_type": "code",
   "execution_count": 8,
   "id": "5022981d",
   "metadata": {},
   "outputs": [],
   "source": [
    "df['token'] = df.text.apply(lambda x: x.split())"
   ]
  },
  {
   "cell_type": "markdown",
   "id": "f6700dde",
   "metadata": {},
   "source": [
    "добавляю в список все слова из каждого твита"
   ]
  },
  {
   "cell_type": "code",
   "execution_count": 9,
   "id": "fa8c8798",
   "metadata": {},
   "outputs": [],
   "source": [
    "words = []\n",
    "for i in df.token:\n",
    "    for j in i:\n",
    "#         print(j)\n",
    "        words.append(j)\n",
    "#     print(i[0])"
   ]
  },
  {
   "cell_type": "markdown",
   "id": "561c0e21",
   "metadata": {},
   "source": [
    "делаю список уникальных слов"
   ]
  },
  {
   "cell_type": "code",
   "execution_count": 10,
   "id": "b2deeac7",
   "metadata": {},
   "outputs": [
    {
     "name": "stdout",
     "output_type": "stream",
     "text": [
      "2590362\n",
      "204774\n"
     ]
    }
   ],
   "source": [
    "print(len(words))\n",
    "print(len(set(words)))\n",
    "words = set(words)"
   ]
  },
  {
   "cell_type": "markdown",
   "id": "87f74da7",
   "metadata": {},
   "source": [
    "словарь где ключ слово, а значение индекс"
   ]
  },
  {
   "cell_type": "code",
   "execution_count": 11,
   "id": "bbec7f8a",
   "metadata": {},
   "outputs": [],
   "source": [
    "dict_w = {}\n",
    "dict_w = {v: i for i, v in enumerate(words)}"
   ]
  },
  {
   "cell_type": "code",
   "execution_count": 12,
   "id": "24de8c75",
   "metadata": {},
   "outputs": [
    {
     "data": {
      "text/html": [
       "<div>\n",
       "<style scoped>\n",
       "    .dataframe tbody tr th:only-of-type {\n",
       "        vertical-align: middle;\n",
       "    }\n",
       "\n",
       "    .dataframe tbody tr th {\n",
       "        vertical-align: top;\n",
       "    }\n",
       "\n",
       "    .dataframe thead th {\n",
       "        text-align: right;\n",
       "    }\n",
       "</style>\n",
       "<table border=\"1\" class=\"dataframe\">\n",
       "  <thead>\n",
       "    <tr style=\"text-align: right;\">\n",
       "      <th></th>\n",
       "      <th>text</th>\n",
       "      <th>label</th>\n",
       "      <th>token</th>\n",
       "    </tr>\n",
       "  </thead>\n",
       "  <tbody>\n",
       "    <tr>\n",
       "      <th>0</th>\n",
       "      <td>хоть я и школота  но поверь  у нас то же сам...</td>\n",
       "      <td>positive</td>\n",
       "      <td>[хоть, я, и, школота, но, поверь, у, нас, то, ...</td>\n",
       "    </tr>\n",
       "    <tr>\n",
       "      <th>1</th>\n",
       "      <td>Да  все таки он немного похож на него  Но мой ...</td>\n",
       "      <td>positive</td>\n",
       "      <td>[Да, все, таки, он, немного, похож, на, него, ...</td>\n",
       "    </tr>\n",
       "    <tr>\n",
       "      <th>2</th>\n",
       "      <td>Ну ты идиотка  я испугалась за тебя</td>\n",
       "      <td>positive</td>\n",
       "      <td>[Ну, ты, идиотка, я, испугалась, за, тебя]</td>\n",
       "    </tr>\n",
       "    <tr>\n",
       "      <th>3</th>\n",
       "      <td>Кто то в углу сидит и погибает от голод...</td>\n",
       "      <td>positive</td>\n",
       "      <td>[Кто, то, в, углу, сидит, и, погибает, от, гол...</td>\n",
       "    </tr>\n",
       "    <tr>\n",
       "      <th>4</th>\n",
       "      <td>Вот что значит страшилка    Но блин посмотре...</td>\n",
       "      <td>positive</td>\n",
       "      <td>[Вот, что, значит, страшилка, Но, блин, посмот...</td>\n",
       "    </tr>\n",
       "  </tbody>\n",
       "</table>\n",
       "</div>"
      ],
      "text/plain": [
       "                                                text     label  \\\n",
       "0    хоть я и школота  но поверь  у нас то же сам...  positive   \n",
       "1  Да  все таки он немного похож на него  Но мой ...  positive   \n",
       "2             Ну ты идиотка  я испугалась за тебя     positive   \n",
       "3         Кто то в углу сидит и погибает от голод...  positive   \n",
       "4    Вот что значит страшилка    Но блин посмотре...  positive   \n",
       "\n",
       "                                               token  \n",
       "0  [хоть, я, и, школота, но, поверь, у, нас, то, ...  \n",
       "1  [Да, все, таки, он, немного, похож, на, него, ...  \n",
       "2         [Ну, ты, идиотка, я, испугалась, за, тебя]  \n",
       "3  [Кто, то, в, углу, сидит, и, погибает, от, гол...  \n",
       "4  [Вот, что, значит, страшилка, Но, блин, посмот...  "
      ]
     },
     "execution_count": 12,
     "metadata": {},
     "output_type": "execute_result"
    }
   ],
   "source": [
    "df.head()"
   ]
  },
  {
   "cell_type": "markdown",
   "id": "f8dc3f1d",
   "metadata": {},
   "source": [
    "функция для добавления индексов слов в df"
   ]
  },
  {
   "cell_type": "code",
   "execution_count": 13,
   "id": "a4610302",
   "metadata": {},
   "outputs": [],
   "source": [
    "def f(line):\n",
    "    r = []\n",
    "    for i in line:\n",
    "        r.append(dict_w[i])\n",
    "    return r\n",
    "        "
   ]
  },
  {
   "cell_type": "markdown",
   "id": "00c18251",
   "metadata": {},
   "source": [
    "добавляю столбец с индексами"
   ]
  },
  {
   "cell_type": "code",
   "execution_count": 14,
   "id": "9f2a5d0b",
   "metadata": {},
   "outputs": [],
   "source": [
    "df['vek'] = df.token.apply(f)\n"
   ]
  },
  {
   "cell_type": "code",
   "execution_count": 15,
   "id": "3c5bae81",
   "metadata": {},
   "outputs": [],
   "source": [
    "# df['vek'] = df.vek.apply(lambda x: np.array(list(x)))"
   ]
  },
  {
   "cell_type": "markdown",
   "id": "5f1ce24a",
   "metadata": {},
   "source": [
    "1- позитивный коментарий, 0- отрицательный, новый столбец с лейблами"
   ]
  },
  {
   "cell_type": "code",
   "execution_count": 16,
   "id": "686e1366",
   "metadata": {},
   "outputs": [],
   "source": [
    "df['lab_vek'] = [1 if i == 'positive' else 0  for i in df.label]"
   ]
  },
  {
   "cell_type": "code",
   "execution_count": 17,
   "id": "31905441",
   "metadata": {},
   "outputs": [],
   "source": [
    "# df['vek'] = df['vek'].apply(lambda x: str(x)[1:-1])"
   ]
  },
  {
   "cell_type": "code",
   "execution_count": 18,
   "id": "097b3146",
   "metadata": {},
   "outputs": [],
   "source": [
    "# df['test'] = df['vek'].str[0]"
   ]
  },
  {
   "cell_type": "code",
   "execution_count": 19,
   "id": "4858d0f7",
   "metadata": {},
   "outputs": [],
   "source": [
    "# df['test'] = df['test'].apply(lambda x: str(x))"
   ]
  },
  {
   "cell_type": "code",
   "execution_count": 20,
   "id": "a9559b40",
   "metadata": {},
   "outputs": [
    {
     "data": {
      "text/html": [
       "<div>\n",
       "<style scoped>\n",
       "    .dataframe tbody tr th:only-of-type {\n",
       "        vertical-align: middle;\n",
       "    }\n",
       "\n",
       "    .dataframe tbody tr th {\n",
       "        vertical-align: top;\n",
       "    }\n",
       "\n",
       "    .dataframe thead th {\n",
       "        text-align: right;\n",
       "    }\n",
       "</style>\n",
       "<table border=\"1\" class=\"dataframe\">\n",
       "  <thead>\n",
       "    <tr style=\"text-align: right;\">\n",
       "      <th></th>\n",
       "      <th>text</th>\n",
       "      <th>label</th>\n",
       "      <th>token</th>\n",
       "      <th>vek</th>\n",
       "      <th>lab_vek</th>\n",
       "    </tr>\n",
       "  </thead>\n",
       "  <tbody>\n",
       "    <tr>\n",
       "      <th>0</th>\n",
       "      <td>хоть я и школота  но поверь  у нас то же сам...</td>\n",
       "      <td>positive</td>\n",
       "      <td>[хоть, я, и, школота, но, поверь, у, нас, то, ...</td>\n",
       "      <td>[31599, 188570, 166109, 31966, 187390, 151384,...</td>\n",
       "      <td>1</td>\n",
       "    </tr>\n",
       "    <tr>\n",
       "      <th>1</th>\n",
       "      <td>Да  все таки он немного похож на него  Но мой ...</td>\n",
       "      <td>positive</td>\n",
       "      <td>[Да, все, таки, он, немного, похож, на, него, ...</td>\n",
       "      <td>[97274, 147672, 115955, 30843, 72966, 30157, 1...</td>\n",
       "      <td>1</td>\n",
       "    </tr>\n",
       "    <tr>\n",
       "      <th>2</th>\n",
       "      <td>Ну ты идиотка  я испугалась за тебя</td>\n",
       "      <td>positive</td>\n",
       "      <td>[Ну, ты, идиотка, я, испугалась, за, тебя]</td>\n",
       "      <td>[164324, 50357, 81498, 188570, 117783, 159629,...</td>\n",
       "      <td>1</td>\n",
       "    </tr>\n",
       "    <tr>\n",
       "      <th>3</th>\n",
       "      <td>Кто то в углу сидит и погибает от голод...</td>\n",
       "      <td>positive</td>\n",
       "      <td>[Кто, то, в, углу, сидит, и, погибает, от, гол...</td>\n",
       "      <td>[114942, 114232, 102995, 169357, 192986, 16610...</td>\n",
       "      <td>1</td>\n",
       "    </tr>\n",
       "    <tr>\n",
       "      <th>4</th>\n",
       "      <td>Вот что значит страшилка    Но блин посмотре...</td>\n",
       "      <td>positive</td>\n",
       "      <td>[Вот, что, значит, страшилка, Но, блин, посмот...</td>\n",
       "      <td>[127992, 113185, 116010, 55841, 840, 26103, 72...</td>\n",
       "      <td>1</td>\n",
       "    </tr>\n",
       "  </tbody>\n",
       "</table>\n",
       "</div>"
      ],
      "text/plain": [
       "                                                text     label  \\\n",
       "0    хоть я и школота  но поверь  у нас то же сам...  positive   \n",
       "1  Да  все таки он немного похож на него  Но мой ...  positive   \n",
       "2             Ну ты идиотка  я испугалась за тебя     positive   \n",
       "3         Кто то в углу сидит и погибает от голод...  positive   \n",
       "4    Вот что значит страшилка    Но блин посмотре...  positive   \n",
       "\n",
       "                                               token  \\\n",
       "0  [хоть, я, и, школота, но, поверь, у, нас, то, ...   \n",
       "1  [Да, все, таки, он, немного, похож, на, него, ...   \n",
       "2         [Ну, ты, идиотка, я, испугалась, за, тебя]   \n",
       "3  [Кто, то, в, углу, сидит, и, погибает, от, гол...   \n",
       "4  [Вот, что, значит, страшилка, Но, блин, посмот...   \n",
       "\n",
       "                                                 vek  lab_vek  \n",
       "0  [31599, 188570, 166109, 31966, 187390, 151384,...        1  \n",
       "1  [97274, 147672, 115955, 30843, 72966, 30157, 1...        1  \n",
       "2  [164324, 50357, 81498, 188570, 117783, 159629,...        1  \n",
       "3  [114942, 114232, 102995, 169357, 192986, 16610...        1  \n",
       "4  [127992, 113185, 116010, 55841, 840, 26103, 72...        1  "
      ]
     },
     "execution_count": 20,
     "metadata": {},
     "output_type": "execute_result"
    }
   ],
   "source": [
    "df.head()"
   ]
  },
  {
   "cell_type": "markdown",
   "id": "a3ad8444",
   "metadata": {},
   "source": [
    "вычисляю длину самого большого ввектора"
   ]
  },
  {
   "cell_type": "code",
   "execution_count": 21,
   "id": "84d02e1d",
   "metadata": {},
   "outputs": [
    {
     "name": "stdout",
     "output_type": "stream",
     "text": [
      "34\n"
     ]
    }
   ],
   "source": [
    "a = 0\n",
    "for i in df.vek:\n",
    "    if len(i) > a:\n",
    "        a = len(i)\n",
    "print(a)"
   ]
  },
  {
   "cell_type": "code",
   "execution_count": 22,
   "id": "9a79c6cb",
   "metadata": {},
   "outputs": [],
   "source": [
    "maxlen = 34"
   ]
  },
  {
   "cell_type": "markdown",
   "id": "37383910",
   "metadata": {},
   "source": [
    "добиваю все векторы до длины 34, те которые меньше добавляются нули"
   ]
  },
  {
   "cell_type": "code",
   "execution_count": 25,
   "id": "bff09e32",
   "metadata": {},
   "outputs": [],
   "source": [
    "import tensorflow as tf"
   ]
  },
  {
   "cell_type": "code",
   "execution_count": 28,
   "id": "dc4d3ed6",
   "metadata": {},
   "outputs": [],
   "source": [
    "from tensorflow.keras.utils import pad_sequences"
   ]
  },
  {
   "cell_type": "code",
   "execution_count": 29,
   "id": "ccf4a953",
   "metadata": {},
   "outputs": [],
   "source": [
    "df['vek_one_size'] = pad_sequences(df.vek, maxlen=maxlen, padding='post', value=0).tolist()"
   ]
  },
  {
   "cell_type": "code",
   "execution_count": 30,
   "id": "969fc03a",
   "metadata": {},
   "outputs": [
    {
     "data": {
      "text/html": [
       "<div>\n",
       "<style scoped>\n",
       "    .dataframe tbody tr th:only-of-type {\n",
       "        vertical-align: middle;\n",
       "    }\n",
       "\n",
       "    .dataframe tbody tr th {\n",
       "        vertical-align: top;\n",
       "    }\n",
       "\n",
       "    .dataframe thead th {\n",
       "        text-align: right;\n",
       "    }\n",
       "</style>\n",
       "<table border=\"1\" class=\"dataframe\">\n",
       "  <thead>\n",
       "    <tr style=\"text-align: right;\">\n",
       "      <th></th>\n",
       "      <th>text</th>\n",
       "      <th>label</th>\n",
       "      <th>token</th>\n",
       "      <th>vek</th>\n",
       "      <th>lab_vek</th>\n",
       "      <th>vek_one_size</th>\n",
       "    </tr>\n",
       "  </thead>\n",
       "  <tbody>\n",
       "    <tr>\n",
       "      <th>0</th>\n",
       "      <td>хоть я и школота  но поверь  у нас то же сам...</td>\n",
       "      <td>positive</td>\n",
       "      <td>[хоть, я, и, школота, но, поверь, у, нас, то, ...</td>\n",
       "      <td>[31599, 188570, 166109, 31966, 187390, 151384,...</td>\n",
       "      <td>1</td>\n",
       "      <td>[31599, 188570, 166109, 31966, 187390, 151384,...</td>\n",
       "    </tr>\n",
       "    <tr>\n",
       "      <th>1</th>\n",
       "      <td>Да  все таки он немного похож на него  Но мой ...</td>\n",
       "      <td>positive</td>\n",
       "      <td>[Да, все, таки, он, немного, похож, на, него, ...</td>\n",
       "      <td>[97274, 147672, 115955, 30843, 72966, 30157, 1...</td>\n",
       "      <td>1</td>\n",
       "      <td>[97274, 147672, 115955, 30843, 72966, 30157, 1...</td>\n",
       "    </tr>\n",
       "    <tr>\n",
       "      <th>2</th>\n",
       "      <td>Ну ты идиотка  я испугалась за тебя</td>\n",
       "      <td>positive</td>\n",
       "      <td>[Ну, ты, идиотка, я, испугалась, за, тебя]</td>\n",
       "      <td>[164324, 50357, 81498, 188570, 117783, 159629,...</td>\n",
       "      <td>1</td>\n",
       "      <td>[164324, 50357, 81498, 188570, 117783, 159629,...</td>\n",
       "    </tr>\n",
       "    <tr>\n",
       "      <th>3</th>\n",
       "      <td>Кто то в углу сидит и погибает от голод...</td>\n",
       "      <td>positive</td>\n",
       "      <td>[Кто, то, в, углу, сидит, и, погибает, от, гол...</td>\n",
       "      <td>[114942, 114232, 102995, 169357, 192986, 16610...</td>\n",
       "      <td>1</td>\n",
       "      <td>[114942, 114232, 102995, 169357, 192986, 16610...</td>\n",
       "    </tr>\n",
       "    <tr>\n",
       "      <th>4</th>\n",
       "      <td>Вот что значит страшилка    Но блин посмотре...</td>\n",
       "      <td>positive</td>\n",
       "      <td>[Вот, что, значит, страшилка, Но, блин, посмот...</td>\n",
       "      <td>[127992, 113185, 116010, 55841, 840, 26103, 72...</td>\n",
       "      <td>1</td>\n",
       "      <td>[127992, 113185, 116010, 55841, 840, 26103, 72...</td>\n",
       "    </tr>\n",
       "  </tbody>\n",
       "</table>\n",
       "</div>"
      ],
      "text/plain": [
       "                                                text     label  \\\n",
       "0    хоть я и школота  но поверь  у нас то же сам...  positive   \n",
       "1  Да  все таки он немного похож на него  Но мой ...  positive   \n",
       "2             Ну ты идиотка  я испугалась за тебя     positive   \n",
       "3         Кто то в углу сидит и погибает от голод...  positive   \n",
       "4    Вот что значит страшилка    Но блин посмотре...  positive   \n",
       "\n",
       "                                               token  \\\n",
       "0  [хоть, я, и, школота, но, поверь, у, нас, то, ...   \n",
       "1  [Да, все, таки, он, немного, похож, на, него, ...   \n",
       "2         [Ну, ты, идиотка, я, испугалась, за, тебя]   \n",
       "3  [Кто, то, в, углу, сидит, и, погибает, от, гол...   \n",
       "4  [Вот, что, значит, страшилка, Но, блин, посмот...   \n",
       "\n",
       "                                                 vek  lab_vek  \\\n",
       "0  [31599, 188570, 166109, 31966, 187390, 151384,...        1   \n",
       "1  [97274, 147672, 115955, 30843, 72966, 30157, 1...        1   \n",
       "2  [164324, 50357, 81498, 188570, 117783, 159629,...        1   \n",
       "3  [114942, 114232, 102995, 169357, 192986, 16610...        1   \n",
       "4  [127992, 113185, 116010, 55841, 840, 26103, 72...        1   \n",
       "\n",
       "                                        vek_one_size  \n",
       "0  [31599, 188570, 166109, 31966, 187390, 151384,...  \n",
       "1  [97274, 147672, 115955, 30843, 72966, 30157, 1...  \n",
       "2  [164324, 50357, 81498, 188570, 117783, 159629,...  \n",
       "3  [114942, 114232, 102995, 169357, 192986, 16610...  \n",
       "4  [127992, 113185, 116010, 55841, 840, 26103, 72...  "
      ]
     },
     "execution_count": 30,
     "metadata": {},
     "output_type": "execute_result"
    }
   ],
   "source": [
    "df.head()"
   ]
  },
  {
   "cell_type": "markdown",
   "id": "51cf3d90",
   "metadata": {},
   "source": [
    "создаю слой эмбединга"
   ]
  },
  {
   "cell_type": "code",
   "execution_count": 31,
   "id": "d03dd6d1",
   "metadata": {},
   "outputs": [],
   "source": [
    "embedding_layer = tf.keras.layers.Embedding(len(words), 7)"
   ]
  },
  {
   "cell_type": "markdown",
   "id": "5d956e66",
   "metadata": {},
   "source": [
    "словарь с ембедингами твитов, где ключи соответствуют индексам в df"
   ]
  },
  {
   "cell_type": "code",
   "execution_count": 59,
   "id": "a0381e8d",
   "metadata": {},
   "outputs": [],
   "source": [
    "def get_emb(df):\n",
    "    dict_emb = {}\n",
    "    count = 0\n",
    "    for i in df:\n",
    "#         print(embedding_layer(tf.constant(i)))\n",
    "        dict_emb[count] = embedding_layer(tf.constant(i))\n",
    "        count += 1\n",
    "    return dict_emb"
   ]
  },
  {
   "cell_type": "code",
   "execution_count": 60,
   "id": "e778dd61",
   "metadata": {},
   "outputs": [],
   "source": [
    "dict_emb = get_emb(df.vek_one_size)"
   ]
  },
  {
   "cell_type": "markdown",
   "id": "59733181",
   "metadata": {},
   "source": [
    "embedding первого твита"
   ]
  },
  {
   "cell_type": "code",
   "execution_count": 63,
   "id": "80e02397",
   "metadata": {},
   "outputs": [
    {
     "data": {
      "text/plain": [
       "<tf.Tensor: shape=(34, 7), dtype=float32, numpy=\n",
       "array([[ 0.00977034, -0.03455224,  0.04629418,  0.03052551,  0.02587575,\n",
       "        -0.01070384, -0.01017529],\n",
       "       [ 0.03345705, -0.0029008 , -0.02111567, -0.02571675,  0.01195462,\n",
       "        -0.00502092,  0.04919385],\n",
       "       [-0.02503277,  0.03344201, -0.04725479, -0.00990544, -0.03153793,\n",
       "        -0.01162053, -0.03319197],\n",
       "       [ 0.0321652 ,  0.02268106, -0.00964663, -0.01060442, -0.02739328,\n",
       "        -0.0037198 ,  0.02892692],\n",
       "       [-0.02828871,  0.03760097, -0.03324286, -0.02010853,  0.02569899,\n",
       "        -0.01074324,  0.00207061],\n",
       "       [ 0.03095045,  0.02113045,  0.02160213, -0.01460637,  0.01193698,\n",
       "         0.04087843,  0.0350023 ],\n",
       "       [-0.03809605,  0.0353162 ,  0.0184479 ,  0.03700775, -0.00332605,\n",
       "        -0.03477263,  0.03660217],\n",
       "       [-0.04424867, -0.00620357,  0.04726447,  0.03852836,  0.02127187,\n",
       "         0.00116513,  0.04559125],\n",
       "       [-0.01349796,  0.00892706,  0.03161485, -0.01996101, -0.03489142,\n",
       "         0.02684698,  0.01388248],\n",
       "       [-0.04193228,  0.00921531,  0.04080918,  0.049481  ,  0.00178412,\n",
       "         0.04242655,  0.02760783],\n",
       "       [ 0.02188357,  0.03182933,  0.02006036, -0.02310975, -0.03241909,\n",
       "         0.02361764,  0.01241723],\n",
       "       [-0.0085263 , -0.02350583, -0.0174581 ,  0.01957403,  0.01312124,\n",
       "        -0.02799395, -0.014293  ],\n",
       "       [ 0.01623681,  0.03359112,  0.00672651, -0.03948557, -0.0340681 ,\n",
       "        -0.01398392,  0.02480925],\n",
       "       [-0.01682182, -0.01028491, -0.04543127,  0.03881553, -0.01166203,\n",
       "        -0.02379487, -0.01593257],\n",
       "       [ 0.03328324,  0.01669789, -0.03838746,  0.01396464, -0.02401524,\n",
       "        -0.00246829, -0.02102395],\n",
       "       [-0.03986306, -0.03159397,  0.0008694 , -0.03142621, -0.0159151 ,\n",
       "        -0.04047587, -0.02986971],\n",
       "       [-0.03986306, -0.03159397,  0.0008694 , -0.03142621, -0.0159151 ,\n",
       "        -0.04047587, -0.02986971],\n",
       "       [-0.03986306, -0.03159397,  0.0008694 , -0.03142621, -0.0159151 ,\n",
       "        -0.04047587, -0.02986971],\n",
       "       [-0.03986306, -0.03159397,  0.0008694 , -0.03142621, -0.0159151 ,\n",
       "        -0.04047587, -0.02986971],\n",
       "       [-0.03986306, -0.03159397,  0.0008694 , -0.03142621, -0.0159151 ,\n",
       "        -0.04047587, -0.02986971],\n",
       "       [-0.03986306, -0.03159397,  0.0008694 , -0.03142621, -0.0159151 ,\n",
       "        -0.04047587, -0.02986971],\n",
       "       [-0.03986306, -0.03159397,  0.0008694 , -0.03142621, -0.0159151 ,\n",
       "        -0.04047587, -0.02986971],\n",
       "       [-0.03986306, -0.03159397,  0.0008694 , -0.03142621, -0.0159151 ,\n",
       "        -0.04047587, -0.02986971],\n",
       "       [-0.03986306, -0.03159397,  0.0008694 , -0.03142621, -0.0159151 ,\n",
       "        -0.04047587, -0.02986971],\n",
       "       [-0.03986306, -0.03159397,  0.0008694 , -0.03142621, -0.0159151 ,\n",
       "        -0.04047587, -0.02986971],\n",
       "       [-0.03986306, -0.03159397,  0.0008694 , -0.03142621, -0.0159151 ,\n",
       "        -0.04047587, -0.02986971],\n",
       "       [-0.03986306, -0.03159397,  0.0008694 , -0.03142621, -0.0159151 ,\n",
       "        -0.04047587, -0.02986971],\n",
       "       [-0.03986306, -0.03159397,  0.0008694 , -0.03142621, -0.0159151 ,\n",
       "        -0.04047587, -0.02986971],\n",
       "       [-0.03986306, -0.03159397,  0.0008694 , -0.03142621, -0.0159151 ,\n",
       "        -0.04047587, -0.02986971],\n",
       "       [-0.03986306, -0.03159397,  0.0008694 , -0.03142621, -0.0159151 ,\n",
       "        -0.04047587, -0.02986971],\n",
       "       [-0.03986306, -0.03159397,  0.0008694 , -0.03142621, -0.0159151 ,\n",
       "        -0.04047587, -0.02986971],\n",
       "       [-0.03986306, -0.03159397,  0.0008694 , -0.03142621, -0.0159151 ,\n",
       "        -0.04047587, -0.02986971],\n",
       "       [-0.03986306, -0.03159397,  0.0008694 , -0.03142621, -0.0159151 ,\n",
       "        -0.04047587, -0.02986971],\n",
       "       [-0.03986306, -0.03159397,  0.0008694 , -0.03142621, -0.0159151 ,\n",
       "        -0.04047587, -0.02986971]], dtype=float32)>"
      ]
     },
     "execution_count": 63,
     "metadata": {},
     "output_type": "execute_result"
    }
   ],
   "source": [
    "dict_emb[0]"
   ]
  }
 ],
 "metadata": {
  "kernelspec": {
   "display_name": "Python 3 (ipykernel)",
   "language": "python",
   "name": "python3"
  },
  "language_info": {
   "codemirror_mode": {
    "name": "ipython",
    "version": 3
   },
   "file_extension": ".py",
   "mimetype": "text/x-python",
   "name": "python",
   "nbconvert_exporter": "python",
   "pygments_lexer": "ipython3",
   "version": "3.7.9"
  }
 },
 "nbformat": 4,
 "nbformat_minor": 5
}
